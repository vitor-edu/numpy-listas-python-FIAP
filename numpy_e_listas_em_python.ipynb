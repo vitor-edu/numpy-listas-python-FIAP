{
  "nbformat": 4,
  "nbformat_minor": 0,
  "metadata": {
    "colab": {
      "name": "numpy e listas em python",
      "provenance": [],
      "collapsed_sections": [],
      "authorship_tag": "ABX9TyPJzhJRtl3FbF3XewISkA2W",
      "include_colab_link": true
    },
    "kernelspec": {
      "name": "python3",
      "display_name": "Python 3"
    }
  },
  "cells": [
    {
      "cell_type": "markdown",
      "metadata": {
        "id": "view-in-github",
        "colab_type": "text"
      },
      "source": [
        "<a href=\"https://colab.research.google.com/github/vitor-edu/numpy-listas-python-FIAP/blob/master/numpy_e_listas_em_python.ipynb\" target=\"_parent\"><img src=\"https://colab.research.google.com/assets/colab-badge.svg\" alt=\"Open In Colab\"/></a>"
      ]
    },
    {
      "cell_type": "code",
      "metadata": {
        "id": "aC3ku-JTIT4J",
        "colab_type": "code",
        "colab": {}
      },
      "source": [
        "import pandas as pd\n",
        "import numpy as np"
      ],
      "execution_count": 1,
      "outputs": []
    },
    {
      "cell_type": "markdown",
      "metadata": {
        "id": "W3gbjqMpDruQ",
        "colab_type": "text"
      },
      "source": [
        "#Introdução a Python\n",
        "\n",
        "'''\n",
        "Duas das principais ferramentas para realizar manipular, tratar, sumarizar e visualizar dados em Python são **Numpy** e **Pandas**. São bibliotecas (conjuntos de classes, funções e objetos) feitos para análise de dados. \n",
        "\n",
        "Enquanto Numpy foca em manipulação de vetores e matrizes, muito úteis para realizar operações de álgebra linear (como decomposição de matrizes, calculo de similaridade e distâncias, etc), o Pandas é focado em dados tabulares e manipulações de dados estruturados.\n",
        "'''"
      ]
    },
    {
      "cell_type": "markdown",
      "metadata": {
        "id": "ahsRecDuD4VH",
        "colab_type": "text"
      },
      "source": [
        "# numpy e listas em python"
      ]
    },
    {
      "cell_type": "code",
      "metadata": {
        "id": "saL2_f2BKi-8",
        "colab_type": "code",
        "colab": {}
      },
      "source": [
        "lista_de_int = [1,2,3,4,5]\n",
        "lista_de_string = [\"um\", \"dois\", \"tres\"]\n",
        "lista_de_listas = [[1,2,2], [1,2], [1,2,3,4]]\n",
        "lista_mista = [2,4,3, \"carro\", 8]"
      ],
      "execution_count": 2,
      "outputs": []
    },
    {
      "cell_type": "markdown",
      "metadata": {
        "id": "lyOliT1JGmHa",
        "colab_type": "text"
      },
      "source": [
        "Listas são pouco indicadas para fazer contas. \n",
        "\n",
        "Suponha que tenhamos duas listas para gerenciar uma compra em uma loja: uma contendo a quantidade de itens, outra o valor dos ítens.\n"
      ]
    },
    {
      "cell_type": "code",
      "metadata": {
        "id": "M38KORTiEjUQ",
        "colab_type": "code",
        "colab": {}
      },
      "source": [
        "quantidades = [1, 10, 0, 5, 2]\n",
        "precos = [10.1, 20.3, 100.75, 0.5, 2.0]\n",
        "\n"
      ],
      "execution_count": 3,
      "outputs": []
    },
    {
      "cell_type": "markdown",
      "metadata": {
        "id": "1mOoW5HEEdS7",
        "colab_type": "text"
      },
      "source": [
        "#exercicios\n",
        "'''\n",
        "Calcule o preço total da compra do cliente, multiplicando a quantidade pedida do primeiro produto pelo seu preço, a quantidade pedida do segundo produto pelo seu preço e assim por diante.\n",
        "'''"
      ]
    },
    {
      "cell_type": "code",
      "metadata": {
        "id": "hLcPH-FSHueU",
        "colab_type": "code",
        "colab": {}
      },
      "source": [
        "quantidades = np.array(quantidades)\n",
        "precos = np.array(precos)"
      ],
      "execution_count": 4,
      "outputs": []
    },
    {
      "cell_type": "code",
      "metadata": {
        "id": "6FxYW9mxIClD",
        "colab_type": "code",
        "colab": {
          "base_uri": "https://localhost:8080/",
          "height": 34
        },
        "outputId": "79f0986e-4e39-4172-bf4f-eb40a53b472e"
      },
      "source": [
        "quantidades * precos "
      ],
      "execution_count": 5,
      "outputs": [
        {
          "output_type": "execute_result",
          "data": {
            "text/plain": [
              "array([ 10.1, 203. ,   0. ,   2.5,   4. ])"
            ]
          },
          "metadata": {
            "tags": []
          },
          "execution_count": 5
        }
      ]
    },
    {
      "cell_type": "markdown",
      "metadata": {
        "id": "HZIcdFmxIPTL",
        "colab_type": "text"
      },
      "source": [
        "#### Acessando e mudando elementos do array\n",
        "\n",
        "Algumas vezes, precisamos acessar (por qualquer motivo que seja) um sub-conjunto de um array do numpy. Pode ser que queiramos usar apenas um elemento (ex.: precisamos mandar para alguém apenas o preço do segundo item). Outras vezes, precisamos de um pedaço maior do array, em outras palavras, um sub-array.\n",
        "\n",
        "Para acessar apenas um elemento do array, podemos usar a sintaxe `a[i]`. No caso dos preços, por exemplo, podemos acessar o preço do terceiro item fazendo:"
      ]
    },
    {
      "cell_type": "code",
      "metadata": {
        "id": "wQdtj9HJIs8V",
        "colab_type": "code",
        "colab": {
          "base_uri": "https://localhost:8080/",
          "height": 34
        },
        "outputId": "0943a272-3216-4591-992e-ad4a1522e757"
      },
      "source": [
        "precos[3]"
      ],
      "execution_count": 6,
      "outputs": [
        {
          "output_type": "execute_result",
          "data": {
            "text/plain": [
              "0.5"
            ]
          },
          "metadata": {
            "tags": []
          },
          "execution_count": 6
        }
      ]
    },
    {
      "cell_type": "code",
      "metadata": {
        "id": "R-4V-GbiJXLu",
        "colab_type": "code",
        "colab": {
          "base_uri": "https://localhost:8080/",
          "height": 34
        },
        "outputId": "a37cc203-fee5-4dfd-e7aa-f9289d3de7a9"
      },
      "source": [
        "precos[0]"
      ],
      "execution_count": 7,
      "outputs": [
        {
          "output_type": "execute_result",
          "data": {
            "text/plain": [
              "10.1"
            ]
          },
          "metadata": {
            "tags": []
          },
          "execution_count": 7
        }
      ]
    },
    {
      "cell_type": "markdown",
      "metadata": {
        "id": "lokF2wOIJb0D",
        "colab_type": "text"
      },
      "source": [
        "Podemos também usar listas para acessar ***multiplos elementos*** de uma vez, fazendo `a[[1,2,3,4]]`. Por exemplo, se quisermos os preços dos três primeiros itens, podemos fazer:"
      ]
    },
    {
      "cell_type": "code",
      "metadata": {
        "id": "LT6362t3Jvho",
        "colab_type": "code",
        "colab": {
          "base_uri": "https://localhost:8080/",
          "height": 34
        },
        "outputId": "7534009b-14a3-42b8-fb85-4984e3e441b4"
      },
      "source": [
        "precos[[0, 1, 2, 3]]"
      ],
      "execution_count": 8,
      "outputs": [
        {
          "output_type": "execute_result",
          "data": {
            "text/plain": [
              "array([ 10.1 ,  20.3 , 100.75,   0.5 ])"
            ]
          },
          "metadata": {
            "tags": []
          },
          "execution_count": 8
        }
      ]
    },
    {
      "cell_type": "code",
      "metadata": {
        "id": "OqqcLYrOKDro",
        "colab_type": "code",
        "colab": {
          "base_uri": "https://localhost:8080/",
          "height": 34
        },
        "outputId": "d991aa10-6544-46c9-dc22-570801276992"
      },
      "source": [
        "quantidades[[0, 1, 2, 3, 4]]"
      ],
      "execution_count": 9,
      "outputs": [
        {
          "output_type": "execute_result",
          "data": {
            "text/plain": [
              "array([ 1, 10,  0,  5,  2])"
            ]
          },
          "metadata": {
            "tags": []
          },
          "execution_count": 9
        }
      ]
    },
    {
      "cell_type": "markdown",
      "metadata": {
        "id": "70x9wdxnKT4N",
        "colab_type": "text"
      },
      "source": [
        "Para acessar ***elementos contíguos (ou seja, adjacentes)*** como no caso acima, podemos também usar o que é chamado de `slicing`. Slices são escritos como `i:j` e significam algo como \"acessar os itens da posição `i` (inclusa) até a posição `j` (não inclusa)\". Por exemplo, para pegar os preços dos três primeiros itens, faríamos:"
      ]
    },
    {
      "cell_type": "code",
      "metadata": {
        "id": "J-ONu_Y9Kcyt",
        "colab_type": "code",
        "colab": {
          "base_uri": "https://localhost:8080/",
          "height": 34
        },
        "outputId": "8ec1c879-38fe-4295-d819-49182b523bb7"
      },
      "source": [
        "precos[0:3]"
      ],
      "execution_count": 10,
      "outputs": [
        {
          "output_type": "execute_result",
          "data": {
            "text/plain": [
              "array([ 10.1 ,  20.3 , 100.75])"
            ]
          },
          "metadata": {
            "tags": []
          },
          "execution_count": 10
        }
      ]
    },
    {
      "cell_type": "markdown",
      "metadata": {
        "id": "hYP7aEFFL4sj",
        "colab_type": "text"
      },
      "source": [
        "#exercício\n",
        "\n",
        "Sobre o array `x`, encontre:\n",
        "\n",
        "* O décimo terceiro elemento\n",
        "* Um sub-array com o primeiro, terceiro e décimo elemento\n",
        "* Um sub-array com os 5 primeiros elementos\n"
      ]
    },
    {
      "cell_type": "markdown",
      "metadata": {
        "id": "fhLRVt5mOAoT",
        "colab_type": "text"
      },
      "source": [
        "O décimo terceiro elemento"
      ]
    },
    {
      "cell_type": "code",
      "metadata": {
        "id": "5Sjpe7PqMByw",
        "colab_type": "code",
        "colab": {}
      },
      "source": [
        "x = [1, 2, 3, 4, 55, 65, 65, 44, 34, 23, 45, 45, 65, 54, 67, 90]"
      ],
      "execution_count": 11,
      "outputs": []
    },
    {
      "cell_type": "code",
      "metadata": {
        "id": "AAisWGkCMVZQ",
        "colab_type": "code",
        "colab": {}
      },
      "source": [
        "x = np.array(x)"
      ],
      "execution_count": 12,
      "outputs": []
    },
    {
      "cell_type": "code",
      "metadata": {
        "id": "qJKUweBZMjBb",
        "colab_type": "code",
        "colab": {
          "base_uri": "https://localhost:8080/",
          "height": 34
        },
        "outputId": "007598ba-893c-4d36-d661-52462b4744f3"
      },
      "source": [
        "x[12]"
      ],
      "execution_count": 13,
      "outputs": [
        {
          "output_type": "execute_result",
          "data": {
            "text/plain": [
              "65"
            ]
          },
          "metadata": {
            "tags": []
          },
          "execution_count": 13
        }
      ]
    },
    {
      "cell_type": "markdown",
      "metadata": {
        "id": "uUj4qpTTOPSM",
        "colab_type": "text"
      },
      "source": [
        "Um sub-array com o primeiro, terceiro e décimo elemento"
      ]
    },
    {
      "cell_type": "code",
      "metadata": {
        "id": "b-hYNrG5M9eh",
        "colab_type": "code",
        "colab": {}
      },
      "source": [
        "y = [[1,2], [3,4,55], [65,65,44], [34,23], [45,45], [65,4], [67,90], [3,5,55], [5,65,44], [34,23], [435,45], [645,4], [68,90]]\n"
      ],
      "execution_count": 14,
      "outputs": []
    },
    {
      "cell_type": "code",
      "metadata": {
        "id": "ac7oc35oNRsc",
        "colab_type": "code",
        "colab": {}
      },
      "source": [
        "y = np.array(y)"
      ],
      "execution_count": 15,
      "outputs": []
    },
    {
      "cell_type": "code",
      "metadata": {
        "id": "mwFqwPYnNYaq",
        "colab_type": "code",
        "colab": {
          "base_uri": "https://localhost:8080/",
          "height": 34
        },
        "outputId": "4efa06f6-b5b1-41a3-da6a-7673d4af657b"
      },
      "source": [
        "y[[0, 2, 9]]"
      ],
      "execution_count": 16,
      "outputs": [
        {
          "output_type": "execute_result",
          "data": {
            "text/plain": [
              "array([list([1, 2]), list([65, 65, 44]), list([34, 23])], dtype=object)"
            ]
          },
          "metadata": {
            "tags": []
          },
          "execution_count": 16
        }
      ]
    },
    {
      "cell_type": "markdown",
      "metadata": {
        "id": "Rai_69sMOTvP",
        "colab_type": "text"
      },
      "source": [
        "Um sub-array com os 5 primeiros elementos\n"
      ]
    },
    {
      "cell_type": "code",
      "metadata": {
        "id": "NQJPR5IVOZfg",
        "colab_type": "code",
        "colab": {
          "base_uri": "https://localhost:8080/",
          "height": 51
        },
        "outputId": "dfcc710c-43b3-4864-ce23-bb8056a01114"
      },
      "source": [
        "y[:5]"
      ],
      "execution_count": 17,
      "outputs": [
        {
          "output_type": "execute_result",
          "data": {
            "text/plain": [
              "array([list([1, 2]), list([3, 4, 55]), list([65, 65, 44]), list([34, 23]),\n",
              "       list([45, 45])], dtype=object)"
            ]
          },
          "metadata": {
            "tags": []
          },
          "execution_count": 17
        }
      ]
    },
    {
      "cell_type": "markdown",
      "metadata": {
        "id": "5_pt4fBtPjRk",
        "colab_type": "text"
      },
      "source": [
        "função random(aleatoriedade) - randint(numeros inteiros)."
      ]
    },
    {
      "cell_type": "code",
      "metadata": {
        "id": "U1qcCuf4Pnk3",
        "colab_type": "code",
        "colab": {}
      },
      "source": [
        "z = np.random.randint(0, 300, size=10)"
      ],
      "execution_count": 18,
      "outputs": []
    },
    {
      "cell_type": "code",
      "metadata": {
        "id": "tzGu5PHVQsIJ",
        "colab_type": "code",
        "colab": {
          "base_uri": "https://localhost:8080/",
          "height": 34
        },
        "outputId": "f682b9ac-12e0-43cc-e93e-d7f14cf01caa"
      },
      "source": [
        "z"
      ],
      "execution_count": 19,
      "outputs": [
        {
          "output_type": "execute_result",
          "data": {
            "text/plain": [
              "array([ 61, 125,  98, 254, 140,  27, 135,   5,  85, 156])"
            ]
          },
          "metadata": {
            "tags": []
          },
          "execution_count": 19
        }
      ]
    },
    {
      "cell_type": "code",
      "metadata": {
        "id": "hXfq_ZlFQ2ex",
        "colab_type": "code",
        "colab": {}
      },
      "source": [
        "z = np.random.randint(0, 500, size=30)"
      ],
      "execution_count": 20,
      "outputs": []
    },
    {
      "cell_type": "code",
      "metadata": {
        "id": "e_TG6ELwRLpx",
        "colab_type": "code",
        "colab": {
          "base_uri": "https://localhost:8080/",
          "height": 68
        },
        "outputId": "b75400e3-12a8-4130-f984-151859b5c4eb"
      },
      "source": [
        "z"
      ],
      "execution_count": 21,
      "outputs": [
        {
          "output_type": "execute_result",
          "data": {
            "text/plain": [
              "array([196, 322, 182, 464, 457, 155, 420, 105,  98, 174, 494, 137, 458,\n",
              "        47,  55, 141, 378, 456, 430, 191,  47, 486, 370,  13, 110, 213,\n",
              "       182, 380, 446, 215])"
            ]
          },
          "metadata": {
            "tags": []
          },
          "execution_count": 21
        }
      ]
    },
    {
      "cell_type": "markdown",
      "metadata": {
        "id": "MOYFWbCNSDNv",
        "colab_type": "text"
      },
      "source": [
        "#Máscaras\n",
        "\n",
        "Para acessar elementos de um array, também podemos usar uma lista de Booleanos (`True` ou `False`) do mesmo tamanho do array. Esta lista é chamada de máscara.\n",
        "\n",
        "A máscara representa quais elementos você quer preservar (representado por `True`) e quais você quer descartar (`False`) do seu resultado final. Por exemplo, para acessar os preços do primeiro e do terceiro item, fazemos:\n"
      ]
    },
    {
      "cell_type": "code",
      "metadata": {
        "id": "dv1CDEFJSNPo",
        "colab_type": "code",
        "colab": {
          "base_uri": "https://localhost:8080/",
          "height": 34
        },
        "outputId": "9e9aedf9-0d9e-4126-c9b3-23a938193989"
      },
      "source": [
        "precos"
      ],
      "execution_count": 22,
      "outputs": [
        {
          "output_type": "execute_result",
          "data": {
            "text/plain": [
              "array([ 10.1 ,  20.3 , 100.75,   0.5 ,   2.  ])"
            ]
          },
          "metadata": {
            "tags": []
          },
          "execution_count": 22
        }
      ]
    },
    {
      "cell_type": "markdown",
      "metadata": {
        "id": "sSkf81gSmjGg",
        "colab_type": "text"
      },
      "source": [
        "pegar o primeiro e terceiro elemento"
      ]
    },
    {
      "cell_type": "code",
      "metadata": {
        "id": "Q7ywu_gKlhAy",
        "colab_type": "code",
        "colab": {
          "base_uri": "https://localhost:8080/",
          "height": 34
        },
        "outputId": "4ae58528-6d9c-49e4-9d3a-bcf4700e839f"
      },
      "source": [
        "precos[[True, False, True, False, False]]"
      ],
      "execution_count": 23,
      "outputs": [
        {
          "output_type": "execute_result",
          "data": {
            "text/plain": [
              "array([ 10.1 , 100.75])"
            ]
          },
          "metadata": {
            "tags": []
          },
          "execution_count": 23
        }
      ]
    },
    {
      "cell_type": "markdown",
      "metadata": {
        "id": "AJXzpodmmo1A",
        "colab_type": "text"
      },
      "source": [
        "pegar o quinto elemento."
      ]
    },
    {
      "cell_type": "code",
      "metadata": {
        "id": "8dI1TfWumLRF",
        "colab_type": "code",
        "colab": {
          "base_uri": "https://localhost:8080/",
          "height": 34
        },
        "outputId": "c1067a20-9188-4903-cfb5-f9c87150f9d3"
      },
      "source": [
        "precos[[False, False, False, False, True]]"
      ],
      "execution_count": 24,
      "outputs": [
        {
          "output_type": "execute_result",
          "data": {
            "text/plain": [
              "array([2.])"
            ]
          },
          "metadata": {
            "tags": []
          },
          "execution_count": 24
        }
      ]
    },
    {
      "cell_type": "markdown",
      "metadata": {
        "id": "a0nCefF-myAG",
        "colab_type": "text"
      },
      "source": [
        "pegar o quarto elemento."
      ]
    },
    {
      "cell_type": "code",
      "metadata": {
        "id": "wKxzRtcRm07a",
        "colab_type": "code",
        "colab": {
          "base_uri": "https://localhost:8080/",
          "height": 34
        },
        "outputId": "cfa06836-c803-49f0-b874-cd216516c2b9"
      },
      "source": [
        "precos[[False, False, False, True, False]]"
      ],
      "execution_count": 25,
      "outputs": [
        {
          "output_type": "execute_result",
          "data": {
            "text/plain": [
              "array([0.5])"
            ]
          },
          "metadata": {
            "tags": []
          },
          "execution_count": 25
        }
      ]
    },
    {
      "cell_type": "markdown",
      "metadata": {
        "id": "7x_3Fm9dnF7O",
        "colab_type": "text"
      },
      "source": [
        "\n",
        "O método da máscara pode parecer inútil, mas é muito útil quando você quer filtrar elementos de um array. Por exemplo, imagine que queremos somente os preços maiores que 10:"
      ]
    },
    {
      "cell_type": "code",
      "metadata": {
        "id": "HAZvsgLhpNIr",
        "colab_type": "code",
        "colab": {}
      },
      "source": [
        "mascara = precos > 10"
      ],
      "execution_count": 26,
      "outputs": []
    },
    {
      "cell_type": "code",
      "metadata": {
        "id": "uIOKMoWLpiOj",
        "colab_type": "code",
        "colab": {
          "base_uri": "https://localhost:8080/",
          "height": 34
        },
        "outputId": "e4e3bab9-a01c-463c-8dcb-9685837ab79c"
      },
      "source": [
        "mascara"
      ],
      "execution_count": 27,
      "outputs": [
        {
          "output_type": "execute_result",
          "data": {
            "text/plain": [
              "array([ True,  True,  True, False, False])"
            ]
          },
          "metadata": {
            "tags": []
          },
          "execution_count": 27
        }
      ]
    },
    {
      "cell_type": "markdown",
      "metadata": {
        "id": "r8GhxPmiqMhG",
        "colab_type": "text"
      },
      "source": [
        "verificar preços maior que 70."
      ]
    },
    {
      "cell_type": "code",
      "metadata": {
        "id": "sfbeNr8Pp-yS",
        "colab_type": "code",
        "colab": {}
      },
      "source": [
        "mascara = precos > 70"
      ],
      "execution_count": 94,
      "outputs": []
    },
    {
      "cell_type": "markdown",
      "metadata": {
        "id": "CnfRLEkLraul",
        "colab_type": "text"
      },
      "source": [
        "# A máscara é um np.array de booleanos\n"
      ]
    },
    {
      "cell_type": "code",
      "metadata": {
        "id": "Iy_WAX4jqI7o",
        "colab_type": "code",
        "colab": {
          "base_uri": "https://localhost:8080/",
          "height": 34
        },
        "outputId": "5b6e6b46-105e-442b-f437-a6d9d796d960"
      },
      "source": [
        "mascara"
      ],
      "execution_count": 29,
      "outputs": [
        {
          "output_type": "execute_result",
          "data": {
            "text/plain": [
              "array([False, False,  True, False, False])"
            ]
          },
          "metadata": {
            "tags": []
          },
          "execution_count": 29
        }
      ]
    },
    {
      "cell_type": "markdown",
      "metadata": {
        "id": "vBBTLEBJqa6X",
        "colab_type": "text"
      },
      "source": [
        "# Usamos então a máscara para acessar os elementos que queremos."
      ]
    },
    {
      "cell_type": "code",
      "metadata": {
        "id": "94QoUudUr7e2",
        "colab_type": "code",
        "colab": {
          "base_uri": "https://localhost:8080/",
          "height": 34
        },
        "outputId": "6f0a22f5-8c90-4030-8277-0384d39d6bb5"
      },
      "source": [
        "precos[mascara]"
      ],
      "execution_count": 30,
      "outputs": [
        {
          "output_type": "execute_result",
          "data": {
            "text/plain": [
              "array([100.75])"
            ]
          },
          "metadata": {
            "tags": []
          },
          "execution_count": 30
        }
      ]
    },
    {
      "cell_type": "code",
      "metadata": {
        "id": "Fn8IP6y1sM2x",
        "colab_type": "code",
        "colab": {
          "base_uri": "https://localhost:8080/",
          "height": 34
        },
        "outputId": "f0e90bf1-1585-48bf-fb5e-2f39f9baf35a"
      },
      "source": [
        "precos[precos > 10]"
      ],
      "execution_count": 31,
      "outputs": [
        {
          "output_type": "execute_result",
          "data": {
            "text/plain": [
              "array([ 10.1 ,  20.3 , 100.75])"
            ]
          },
          "metadata": {
            "tags": []
          },
          "execution_count": 31
        }
      ]
    },
    {
      "cell_type": "code",
      "metadata": {
        "id": "CfYE9FZLsWWv",
        "colab_type": "code",
        "colab": {
          "base_uri": "https://localhost:8080/",
          "height": 34
        },
        "outputId": "0e599c53-89ab-434b-b930-089f509343f3"
      },
      "source": [
        "precos[precos < 3]"
      ],
      "execution_count": 32,
      "outputs": [
        {
          "output_type": "execute_result",
          "data": {
            "text/plain": [
              "array([0.5, 2. ])"
            ]
          },
          "metadata": {
            "tags": []
          },
          "execution_count": 32
        }
      ]
    },
    {
      "cell_type": "markdown",
      "metadata": {
        "id": "_VcxVABnuUdW",
        "colab_type": "text"
      },
      "source": [
        ""
      ]
    },
    {
      "cell_type": "code",
      "metadata": {
        "id": "nwkqMeICs2Ae",
        "colab_type": "code",
        "colab": {
          "base_uri": "https://localhost:8080/",
          "height": 34
        },
        "outputId": "c3feeef8-c891-4b35-8998-a0c07ffbae9c"
      },
      "source": [
        "precos[precos < 30]"
      ],
      "execution_count": 33,
      "outputs": [
        {
          "output_type": "execute_result",
          "data": {
            "text/plain": [
              "array([10.1, 20.3,  0.5,  2. ])"
            ]
          },
          "metadata": {
            "tags": []
          },
          "execution_count": 33
        }
      ]
    },
    {
      "cell_type": "markdown",
      "metadata": {
        "id": "CPgyejdbuRCN",
        "colab_type": "text"
      },
      "source": [
        "#exercicio\n",
        "Alguns **produtos** tiveram mais de uma unidade pedida pelo usuário (informação que consta na lista *quantidade*). Encontre os *preços* desse produtos.\n"
      ]
    },
    {
      "cell_type": "code",
      "metadata": {
        "id": "WM3OsP-WuXAH",
        "colab_type": "code",
        "colab": {
          "base_uri": "https://localhost:8080/",
          "height": 34
        },
        "outputId": "feb33e12-52f3-4899-f6ed-83282d697054"
      },
      "source": [
        "precos"
      ],
      "execution_count": 34,
      "outputs": [
        {
          "output_type": "execute_result",
          "data": {
            "text/plain": [
              "array([ 10.1 ,  20.3 , 100.75,   0.5 ,   2.  ])"
            ]
          },
          "metadata": {
            "tags": []
          },
          "execution_count": 34
        }
      ]
    },
    {
      "cell_type": "code",
      "metadata": {
        "id": "Az0oTKhkuZRV",
        "colab_type": "code",
        "colab": {
          "base_uri": "https://localhost:8080/",
          "height": 34
        },
        "outputId": "36fbfb00-b7d1-404e-9b85-25a98615da8b"
      },
      "source": [
        "quantidades"
      ],
      "execution_count": 35,
      "outputs": [
        {
          "output_type": "execute_result",
          "data": {
            "text/plain": [
              "array([ 1, 10,  0,  5,  2])"
            ]
          },
          "metadata": {
            "tags": []
          },
          "execution_count": 35
        }
      ]
    },
    {
      "cell_type": "markdown",
      "metadata": {
        "id": "EU4V7-aW1PnM",
        "colab_type": "text"
      },
      "source": [
        "alguns exemplos."
      ]
    },
    {
      "cell_type": "code",
      "metadata": {
        "id": "9TE-7Lsf1FH0",
        "colab_type": "code",
        "colab": {
          "base_uri": "https://localhost:8080/",
          "height": 34
        },
        "outputId": "914656d2-1a81-44d9-97cb-5b63467abd74"
      },
      "source": [
        "quantidades > 1"
      ],
      "execution_count": 36,
      "outputs": [
        {
          "output_type": "execute_result",
          "data": {
            "text/plain": [
              "array([False,  True, False,  True,  True])"
            ]
          },
          "metadata": {
            "tags": []
          },
          "execution_count": 36
        }
      ]
    },
    {
      "cell_type": "code",
      "metadata": {
        "id": "3lSFqrIF1LsS",
        "colab_type": "code",
        "colab": {
          "base_uri": "https://localhost:8080/",
          "height": 34
        },
        "outputId": "f1dc42c7-d75c-4605-e018-36e6ee07df61"
      },
      "source": [
        "quantidades > 7"
      ],
      "execution_count": 37,
      "outputs": [
        {
          "output_type": "execute_result",
          "data": {
            "text/plain": [
              "array([False,  True, False, False, False])"
            ]
          },
          "metadata": {
            "tags": []
          },
          "execution_count": 37
        }
      ]
    },
    {
      "cell_type": "code",
      "metadata": {
        "id": "5IJtN1Bg1XSW",
        "colab_type": "code",
        "colab": {
          "base_uri": "https://localhost:8080/",
          "height": 34
        },
        "outputId": "b10e012e-a5ee-4f34-89f9-f850a3d42f2e"
      },
      "source": [
        "quantidades >= 0 "
      ],
      "execution_count": 38,
      "outputs": [
        {
          "output_type": "execute_result",
          "data": {
            "text/plain": [
              "array([ True,  True,  True,  True,  True])"
            ]
          },
          "metadata": {
            "tags": []
          },
          "execution_count": 38
        }
      ]
    },
    {
      "cell_type": "code",
      "metadata": {
        "id": "VHUjxGt02ggt",
        "colab_type": "code",
        "colab": {
          "base_uri": "https://localhost:8080/",
          "height": 34
        },
        "outputId": "752fd71e-f1df-48f0-f23e-a17820a6052c"
      },
      "source": [
        "#resultado\n",
        "precos[quantidades > 1]"
      ],
      "execution_count": 39,
      "outputs": [
        {
          "output_type": "execute_result",
          "data": {
            "text/plain": [
              "array([20.3,  0.5,  2. ])"
            ]
          },
          "metadata": {
            "tags": []
          },
          "execution_count": 39
        }
      ]
    },
    {
      "cell_type": "markdown",
      "metadata": {
        "id": "wgYWx0da3Gmj",
        "colab_type": "text"
      },
      "source": [
        "preço dos produtos acima de 9 itens."
      ]
    },
    {
      "cell_type": "code",
      "metadata": {
        "id": "baepka2B3Uu-",
        "colab_type": "code",
        "colab": {
          "base_uri": "https://localhost:8080/",
          "height": 34
        },
        "outputId": "1918b431-bd8d-4f12-af39-0f5f5b1d70e9"
      },
      "source": [
        "precos[quantidades > 9]"
      ],
      "execution_count": 40,
      "outputs": [
        {
          "output_type": "execute_result",
          "data": {
            "text/plain": [
              "array([20.3])"
            ]
          },
          "metadata": {
            "tags": []
          },
          "execution_count": 40
        }
      ]
    },
    {
      "cell_type": "markdown",
      "metadata": {
        "id": "1feb6sqCKF5h",
        "colab_type": "text"
      },
      "source": [
        "# Alterando elementos do array\n"
      ]
    },
    {
      "cell_type": "code",
      "metadata": {
        "id": "0_QxGbzUKSg9",
        "colab_type": "code",
        "colab": {
          "base_uri": "https://localhost:8080/",
          "height": 34
        },
        "outputId": "0018e93d-416b-49cc-99a2-7d0317810dd9"
      },
      "source": [
        "precos"
      ],
      "execution_count": 41,
      "outputs": [
        {
          "output_type": "execute_result",
          "data": {
            "text/plain": [
              "array([ 10.1 ,  20.3 , 100.75,   0.5 ,   2.  ])"
            ]
          },
          "metadata": {
            "tags": []
          },
          "execution_count": 41
        }
      ]
    },
    {
      "cell_type": "code",
      "metadata": {
        "id": "QXJC_oOOKYdK",
        "colab_type": "code",
        "colab": {
          "base_uri": "https://localhost:8080/",
          "height": 34
        },
        "outputId": "e576b45d-83c5-4e15-eea3-a59e1505ee98"
      },
      "source": [
        "precos[4]"
      ],
      "execution_count": 42,
      "outputs": [
        {
          "output_type": "execute_result",
          "data": {
            "text/plain": [
              "2.0"
            ]
          },
          "metadata": {
            "tags": []
          },
          "execution_count": 42
        }
      ]
    },
    {
      "cell_type": "code",
      "metadata": {
        "id": "V72Z1n95KdxF",
        "colab_type": "code",
        "colab": {}
      },
      "source": [
        "precos[4] = 130"
      ],
      "execution_count": 43,
      "outputs": []
    },
    {
      "cell_type": "code",
      "metadata": {
        "id": "6I2z24SNKkWd",
        "colab_type": "code",
        "colab": {
          "base_uri": "https://localhost:8080/",
          "height": 34
        },
        "outputId": "13f41aba-17eb-4f83-9840-6e468d95de3f"
      },
      "source": [
        "precos"
      ],
      "execution_count": 44,
      "outputs": [
        {
          "output_type": "execute_result",
          "data": {
            "text/plain": [
              "array([ 10.1 ,  20.3 , 100.75,   0.5 , 130.  ])"
            ]
          },
          "metadata": {
            "tags": []
          },
          "execution_count": 44
        }
      ]
    },
    {
      "cell_type": "markdown",
      "metadata": {
        "id": "VhEyOuqCKuLU",
        "colab_type": "text"
      },
      "source": [
        "Você pode alterar multiplos elementos de uma vez! Imagine que você queira dar um desconto de 50% nos três primeiros itens da lista. Basta fazer:"
      ]
    },
    {
      "cell_type": "code",
      "metadata": {
        "id": "vmQPIWOYLuiT",
        "colab_type": "code",
        "colab": {}
      },
      "source": [
        "precos[0:3] = precos[0:3] / 2"
      ],
      "execution_count": 45,
      "outputs": []
    },
    {
      "cell_type": "code",
      "metadata": {
        "id": "FEDRnYJ4L0JW",
        "colab_type": "code",
        "colab": {
          "base_uri": "https://localhost:8080/",
          "height": 34
        },
        "outputId": "efe8d11f-5ee3-4b1a-db51-aef3f598b810"
      },
      "source": [
        "precos"
      ],
      "execution_count": 46,
      "outputs": [
        {
          "output_type": "execute_result",
          "data": {
            "text/plain": [
              "array([  5.05 ,  10.15 ,  50.375,   0.5  , 130.   ])"
            ]
          },
          "metadata": {
            "tags": []
          },
          "execution_count": 46
        }
      ]
    },
    {
      "cell_type": "markdown",
      "metadata": {
        "id": "_182J8mKL6FZ",
        "colab_type": "text"
      },
      "source": [
        "# Numpy Arrays de multiplas dimensões\n",
        "\n",
        "Numpy dá ferramentas excelentes para a manipulação de vetores (no sentido matemático). No entanto, também é ideal quando lidamos com dados de dimensionalidade mais alta, como matrizes ou arrays em 3D. Matrizes, por serem bidimensionais (altura e largura), são capazer de representar objetos como rotações e imagens preto e branco. Arrays 3D podem ser usados para representar imagens coloridas (onde a terceira dimensão é a cor), ou um vídeo (onde a terceira dimensão é o tempo).\n"
      ]
    },
    {
      "cell_type": "code",
      "metadata": {
        "id": "1s-Bx5zeMVng",
        "colab_type": "code",
        "colab": {}
      },
      "source": [
        "# criando uma matriz\n",
        "m1 = np.array([[1,2,3], [4,5,6], [7,8,9], [10,11,12]])"
      ],
      "execution_count": 47,
      "outputs": []
    },
    {
      "cell_type": "code",
      "metadata": {
        "id": "5gG2Rwc4Qklt",
        "colab_type": "code",
        "colab": {
          "base_uri": "https://localhost:8080/",
          "height": 85
        },
        "outputId": "705de33c-bc32-4b1b-9afa-f7e118d5a5cf"
      },
      "source": [
        "m1"
      ],
      "execution_count": 48,
      "outputs": [
        {
          "output_type": "execute_result",
          "data": {
            "text/plain": [
              "array([[ 1,  2,  3],\n",
              "       [ 4,  5,  6],\n",
              "       [ 7,  8,  9],\n",
              "       [10, 11, 12]])"
            ]
          },
          "metadata": {
            "tags": []
          },
          "execution_count": 48
        }
      ]
    },
    {
      "cell_type": "code",
      "metadata": {
        "id": "6pkGDc7WQw9W",
        "colab_type": "code",
        "colab": {
          "base_uri": "https://localhost:8080/",
          "height": 34
        },
        "outputId": "a10c92c9-cc3e-479b-bf80-70a2ad83657b"
      },
      "source": [
        "quantidades"
      ],
      "execution_count": 49,
      "outputs": [
        {
          "output_type": "execute_result",
          "data": {
            "text/plain": [
              "array([ 1, 10,  0,  5,  2])"
            ]
          },
          "metadata": {
            "tags": []
          },
          "execution_count": 49
        }
      ]
    },
    {
      "cell_type": "code",
      "metadata": {
        "id": "KM8YrPwkQ1vz",
        "colab_type": "code",
        "colab": {
          "base_uri": "https://localhost:8080/",
          "height": 34
        },
        "outputId": "5bf5d57e-bfa6-4f76-ce64-a9e2b552509e"
      },
      "source": [
        "precos"
      ],
      "execution_count": 50,
      "outputs": [
        {
          "output_type": "execute_result",
          "data": {
            "text/plain": [
              "array([  5.05 ,  10.15 ,  50.375,   0.5  , 130.   ])"
            ]
          },
          "metadata": {
            "tags": []
          },
          "execution_count": 50
        }
      ]
    },
    {
      "cell_type": "code",
      "metadata": {
        "id": "3KjxkNrRQ3y-",
        "colab_type": "code",
        "colab": {}
      },
      "source": [
        "produtos = [quantidades, precos]"
      ],
      "execution_count": 51,
      "outputs": []
    },
    {
      "cell_type": "code",
      "metadata": {
        "id": "HC4iaXN0Q9XH",
        "colab_type": "code",
        "colab": {
          "base_uri": "https://localhost:8080/",
          "height": 51
        },
        "outputId": "70454259-c9fc-4383-ea32-1577d170a07f"
      },
      "source": [
        "produtos"
      ],
      "execution_count": 52,
      "outputs": [
        {
          "output_type": "execute_result",
          "data": {
            "text/plain": [
              "[array([ 1, 10,  0,  5,  2]),\n",
              " array([  5.05 ,  10.15 ,  50.375,   0.5  , 130.   ])]"
            ]
          },
          "metadata": {
            "tags": []
          },
          "execution_count": 52
        }
      ]
    },
    {
      "cell_type": "markdown",
      "metadata": {
        "id": "jmTzsraLRCOg",
        "colab_type": "text"
      },
      "source": [
        "#Podemos também criar uma matriz aleatória, fazendo:\n"
      ]
    },
    {
      "cell_type": "code",
      "metadata": {
        "id": "9gC3xxMBRMDE",
        "colab_type": "code",
        "colab": {}
      },
      "source": [
        "m2 = np.random.randint(0,100, size=(4,3))"
      ],
      "execution_count": 53,
      "outputs": []
    },
    {
      "cell_type": "code",
      "metadata": {
        "id": "CeoMTyrgSIO6",
        "colab_type": "code",
        "colab": {
          "base_uri": "https://localhost:8080/",
          "height": 85
        },
        "outputId": "ba020d3c-3719-45e2-9805-92baebeee101"
      },
      "source": [
        "m2"
      ],
      "execution_count": 54,
      "outputs": [
        {
          "output_type": "execute_result",
          "data": {
            "text/plain": [
              "array([[63, 47, 74],\n",
              "       [81, 98, 13],\n",
              "       [96, 74, 47],\n",
              "       [88, 89, 87]])"
            ]
          },
          "metadata": {
            "tags": []
          },
          "execution_count": 54
        }
      ]
    },
    {
      "cell_type": "code",
      "metadata": {
        "id": "nmvHf1DbSS9p",
        "colab_type": "code",
        "colab": {}
      },
      "source": [
        "m3 = np.random.randint(0,100, size = (10,3))"
      ],
      "execution_count": 55,
      "outputs": []
    },
    {
      "cell_type": "code",
      "metadata": {
        "id": "4QBvU1_gSe3r",
        "colab_type": "code",
        "colab": {
          "base_uri": "https://localhost:8080/",
          "height": 187
        },
        "outputId": "98f611c1-82d2-40f0-d5bf-13da3830861c"
      },
      "source": [
        "m3"
      ],
      "execution_count": 56,
      "outputs": [
        {
          "output_type": "execute_result",
          "data": {
            "text/plain": [
              "array([[63, 75, 60],\n",
              "       [99, 58, 58],\n",
              "       [23,  9, 74],\n",
              "       [37, 64, 57],\n",
              "       [ 7, 42, 17],\n",
              "       [84, 53, 90],\n",
              "       [13, 56, 76],\n",
              "       [35, 89, 86],\n",
              "       [91, 77, 65],\n",
              "       [43, 15, 75]])"
            ]
          },
          "metadata": {
            "tags": []
          },
          "execution_count": 56
        }
      ]
    },
    {
      "cell_type": "code",
      "metadata": {
        "id": "o5ZUUXXJTVQ8",
        "colab_type": "code",
        "colab": {}
      },
      "source": [
        "m4 = np.random.randint(0,100, size = (10,3))"
      ],
      "execution_count": 57,
      "outputs": []
    },
    {
      "cell_type": "code",
      "metadata": {
        "id": "VLGZWsAjTkWJ",
        "colab_type": "code",
        "colab": {
          "base_uri": "https://localhost:8080/",
          "height": 187
        },
        "outputId": "5fac36c7-b062-47d2-a2d8-1e0f4658976b"
      },
      "source": [
        "m4"
      ],
      "execution_count": 58,
      "outputs": [
        {
          "output_type": "execute_result",
          "data": {
            "text/plain": [
              "array([[54, 14, 58],\n",
              "       [58, 49, 61],\n",
              "       [87, 71, 19],\n",
              "       [46, 56, 79],\n",
              "       [68, 99, 14],\n",
              "       [63, 34, 16],\n",
              "       [42, 74,  6],\n",
              "       [40, 24, 63],\n",
              "       [41, 86, 33],\n",
              "       [ 7, 47, 92]])"
            ]
          },
          "metadata": {
            "tags": []
          },
          "execution_count": 58
        }
      ]
    },
    {
      "cell_type": "markdown",
      "metadata": {
        "id": "Q1FdwdZ_Sryf",
        "colab_type": "text"
      },
      "source": [
        "Multiplicação matriccial."
      ]
    },
    {
      "cell_type": "code",
      "metadata": {
        "id": "qPEmIMP9Sx52",
        "colab_type": "code",
        "colab": {}
      },
      "source": [
        "# np.dot(m3, m4) erro esclarecer duvida."
      ],
      "execution_count": 59,
      "outputs": []
    },
    {
      "cell_type": "markdown",
      "metadata": {
        "id": "2Vdhfz1LWIMh",
        "colab_type": "text"
      },
      "source": [
        "transpor uma matrix."
      ]
    },
    {
      "cell_type": "code",
      "metadata": {
        "id": "wTszG90RX7Wf",
        "colab_type": "code",
        "colab": {
          "base_uri": "https://localhost:8080/",
          "height": 68
        },
        "outputId": "e15b0ca2-dee8-4a2a-b4dd-7f10e72b9de8"
      },
      "source": [
        "m4.T"
      ],
      "execution_count": 60,
      "outputs": [
        {
          "output_type": "execute_result",
          "data": {
            "text/plain": [
              "array([[54, 58, 87, 46, 68, 63, 42, 40, 41,  7],\n",
              "       [14, 49, 71, 56, 99, 34, 74, 24, 86, 47],\n",
              "       [58, 61, 19, 79, 14, 16,  6, 63, 33, 92]])"
            ]
          },
          "metadata": {
            "tags": []
          },
          "execution_count": 60
        }
      ]
    },
    {
      "cell_type": "markdown",
      "metadata": {
        "id": "S22ttPHagIIV",
        "colab_type": "text"
      },
      "source": [
        "# Acessando dados\n",
        "\n",
        "Para acessar os dados, basta usar `matriz[linha, coluna]` onde `linha` é a posição da linha e `coluna` é a posição da coluna. Por exemplo, para acessarmos a primeira linha e segunda coluna de uma matriz, fazemos:\n"
      ]
    },
    {
      "cell_type": "code",
      "metadata": {
        "id": "gxi2Tb8Kgd6H",
        "colab_type": "code",
        "colab": {
          "base_uri": "https://localhost:8080/",
          "height": 85
        },
        "outputId": "f576ef08-df14-4de8-ac31-586e66552cf7"
      },
      "source": [
        "m1"
      ],
      "execution_count": 61,
      "outputs": [
        {
          "output_type": "execute_result",
          "data": {
            "text/plain": [
              "array([[ 1,  2,  3],\n",
              "       [ 4,  5,  6],\n",
              "       [ 7,  8,  9],\n",
              "       [10, 11, 12]])"
            ]
          },
          "metadata": {
            "tags": []
          },
          "execution_count": 61
        }
      ]
    },
    {
      "cell_type": "code",
      "metadata": {
        "id": "ZOGk6USqhDuq",
        "colab_type": "code",
        "colab": {}
      },
      "source": [
        ""
      ],
      "execution_count": null,
      "outputs": []
    },
    {
      "cell_type": "code",
      "metadata": {
        "id": "i7SZVKtHgogd",
        "colab_type": "code",
        "colab": {
          "base_uri": "https://localhost:8080/",
          "height": 34
        },
        "outputId": "8c5ad521-26c9-4bc8-842e-77517bcfd916"
      },
      "source": [
        "m1[0, 1]"
      ],
      "execution_count": 62,
      "outputs": [
        {
          "output_type": "execute_result",
          "data": {
            "text/plain": [
              "2"
            ]
          },
          "metadata": {
            "tags": []
          },
          "execution_count": 62
        }
      ]
    },
    {
      "cell_type": "code",
      "metadata": {
        "id": "YGV1NkN5g2TW",
        "colab_type": "code",
        "colab": {
          "base_uri": "https://localhost:8080/",
          "height": 34
        },
        "outputId": "fa65261f-2fd7-4f29-e720-b67bb0ba40a9"
      },
      "source": [
        "m1[1, 2]"
      ],
      "execution_count": 63,
      "outputs": [
        {
          "output_type": "execute_result",
          "data": {
            "text/plain": [
              "6"
            ]
          },
          "metadata": {
            "tags": []
          },
          "execution_count": 63
        }
      ]
    },
    {
      "cell_type": "markdown",
      "metadata": {
        "id": "rmdfLPFVg_1r",
        "colab_type": "text"
      },
      "source": [
        "Técnicas para acessar dados que funcionam para arrays de 1 dimensão, também funcionam aqui. Um exemplo é usar slices:"
      ]
    },
    {
      "cell_type": "code",
      "metadata": {
        "id": "PWpEjJEFi79r",
        "colab_type": "code",
        "colab": {
          "base_uri": "https://localhost:8080/",
          "height": 85
        },
        "outputId": "2d36a578-e5d8-4596-ebd0-b1a3e503983b"
      },
      "source": [
        "m1"
      ],
      "execution_count": 66,
      "outputs": [
        {
          "output_type": "execute_result",
          "data": {
            "text/plain": [
              "array([[ 1,  2,  3],\n",
              "       [ 4,  5,  6],\n",
              "       [ 7,  8,  9],\n",
              "       [10, 11, 12]])"
            ]
          },
          "metadata": {
            "tags": []
          },
          "execution_count": 66
        }
      ]
    },
    {
      "cell_type": "code",
      "metadata": {
        "id": "8rgC0uhChN8e",
        "colab_type": "code",
        "colab": {
          "base_uri": "https://localhost:8080/",
          "height": 68
        },
        "outputId": "0f665d70-0704-49aa-dbf8-c515bb3bb012"
      },
      "source": [
        "m1[0:3, 0:2]"
      ],
      "execution_count": 71,
      "outputs": [
        {
          "output_type": "execute_result",
          "data": {
            "text/plain": [
              "array([[1, 2],\n",
              "       [4, 5],\n",
              "       [7, 8]])"
            ]
          },
          "metadata": {
            "tags": []
          },
          "execution_count": 71
        }
      ]
    },
    {
      "cell_type": "code",
      "metadata": {
        "id": "RUocoNmD0pql",
        "colab_type": "code",
        "colab": {
          "base_uri": "https://localhost:8080/",
          "height": 68
        },
        "outputId": "7871d307-728e-4b3a-84d3-d1a84b259955"
      },
      "source": [
        "m1[1:4, 0:2]"
      ],
      "execution_count": 72,
      "outputs": [
        {
          "output_type": "execute_result",
          "data": {
            "text/plain": [
              "array([[ 4,  5],\n",
              "       [ 7,  8],\n",
              "       [10, 11]])"
            ]
          },
          "metadata": {
            "tags": []
          },
          "execution_count": 72
        }
      ]
    },
    {
      "cell_type": "code",
      "metadata": {
        "id": "sf3ywy_R04ax",
        "colab_type": "code",
        "colab": {
          "base_uri": "https://localhost:8080/",
          "height": 68
        },
        "outputId": "1ca84058-5191-4121-97d6-264c93d6f4e3"
      },
      "source": [
        "m1[1:4, 0:3]"
      ],
      "execution_count": 74,
      "outputs": [
        {
          "output_type": "execute_result",
          "data": {
            "text/plain": [
              "array([[ 4,  5,  6],\n",
              "       [ 7,  8,  9],\n",
              "       [10, 11, 12]])"
            ]
          },
          "metadata": {
            "tags": []
          },
          "execution_count": 74
        }
      ]
    },
    {
      "cell_type": "markdown",
      "metadata": {
        "id": "Tl1mTo5P1Rie",
        "colab_type": "text"
      },
      "source": [
        "E também máscaras. Por exemplo, podemos querer só as linhas da matriz cuja segunda coluna tem valor superior a zero:\n"
      ]
    },
    {
      "cell_type": "code",
      "metadata": {
        "id": "Jmq5Piep1cE7",
        "colab_type": "code",
        "colab": {
          "base_uri": "https://localhost:8080/",
          "height": 85
        },
        "outputId": "a963ece2-4757-4162-bda1-5d691e1c8849"
      },
      "source": [
        "m1"
      ],
      "execution_count": 75,
      "outputs": [
        {
          "output_type": "execute_result",
          "data": {
            "text/plain": [
              "array([[ 1,  2,  3],\n",
              "       [ 4,  5,  6],\n",
              "       [ 7,  8,  9],\n",
              "       [10, 11, 12]])"
            ]
          },
          "metadata": {
            "tags": []
          },
          "execution_count": 75
        }
      ]
    },
    {
      "cell_type": "code",
      "metadata": {
        "id": "Y30oBp4M2EEk",
        "colab_type": "code",
        "colab": {
          "base_uri": "https://localhost:8080/",
          "height": 85
        },
        "outputId": "06d7f5b4-255b-4892-81ca-9251dd626940"
      },
      "source": [
        "m1[:, :]"
      ],
      "execution_count": 76,
      "outputs": [
        {
          "output_type": "execute_result",
          "data": {
            "text/plain": [
              "array([[ 1,  2,  3],\n",
              "       [ 4,  5,  6],\n",
              "       [ 7,  8,  9],\n",
              "       [10, 11, 12]])"
            ]
          },
          "metadata": {
            "tags": []
          },
          "execution_count": 76
        }
      ]
    },
    {
      "cell_type": "code",
      "metadata": {
        "id": "scvEE9aD2Tui",
        "colab_type": "code",
        "colab": {
          "base_uri": "https://localhost:8080/",
          "height": 34
        },
        "outputId": "d2a454de-e3d3-4982-944b-c81167f89856"
      },
      "source": [
        "m1[:, 2]"
      ],
      "execution_count": 77,
      "outputs": [
        {
          "output_type": "execute_result",
          "data": {
            "text/plain": [
              "array([ 3,  6,  9, 12])"
            ]
          },
          "metadata": {
            "tags": []
          },
          "execution_count": 77
        }
      ]
    },
    {
      "cell_type": "code",
      "metadata": {
        "id": "L6-65KU72lPf",
        "colab_type": "code",
        "colab": {
          "base_uri": "https://localhost:8080/",
          "height": 34
        },
        "outputId": "3648b1dc-91a3-429c-fff2-ba544f574b9f"
      },
      "source": [
        "m1[:, 2] > 7"
      ],
      "execution_count": 78,
      "outputs": [
        {
          "output_type": "execute_result",
          "data": {
            "text/plain": [
              "array([False, False,  True,  True])"
            ]
          },
          "metadata": {
            "tags": []
          },
          "execution_count": 78
        }
      ]
    },
    {
      "cell_type": "code",
      "metadata": {
        "id": "86UhX2oz2tsH",
        "colab_type": "code",
        "colab": {
          "base_uri": "https://localhost:8080/",
          "height": 34
        },
        "outputId": "0c2721be-0560-4a1f-e45d-e6db73e62f10"
      },
      "source": [
        "m1[:, 2] > 11"
      ],
      "execution_count": 83,
      "outputs": [
        {
          "output_type": "execute_result",
          "data": {
            "text/plain": [
              "array([False, False, False,  True])"
            ]
          },
          "metadata": {
            "tags": []
          },
          "execution_count": 83
        }
      ]
    },
    {
      "cell_type": "code",
      "metadata": {
        "id": "OekSziwl3ABE",
        "colab_type": "code",
        "colab": {
          "base_uri": "https://localhost:8080/",
          "height": 34
        },
        "outputId": "acb33d9a-5bd8-484b-da02-958dfa5a094d"
      },
      "source": [
        "mascara = m1[:, 2] > 11\n",
        "m1[mascara, :]"
      ],
      "execution_count": 86,
      "outputs": [
        {
          "output_type": "execute_result",
          "data": {
            "text/plain": [
              "array([[10, 11, 12]])"
            ]
          },
          "metadata": {
            "tags": []
          },
          "execution_count": 86
        }
      ]
    },
    {
      "cell_type": "markdown",
      "metadata": {
        "id": "JL0tPZIp74XK",
        "colab_type": "text"
      },
      "source": [
        "#Exercício:\n",
        "\n",
        "Crie uma matriz do numpy com números aleatórios de 0 a 100. O tamanho da matriz deve ser 100 linhas por 50 colunas. Depois, use a técnica da máscara para selecionar só as linhas da matriz cujo valor da terceira coluna seja maior do que o da primeira coluna. Quantas linhas sobraram?\n"
      ]
    },
    {
      "cell_type": "code",
      "metadata": {
        "id": "ZWLqAM-57_l8",
        "colab_type": "code",
        "colab": {}
      },
      "source": [
        "matrix1 = np.random.randint(0,100, size = (100, 50)) "
      ],
      "execution_count": 89,
      "outputs": []
    },
    {
      "cell_type": "code",
      "metadata": {
        "id": "nHiPTiN-9_AL",
        "colab_type": "code",
        "colab": {
          "base_uri": "https://localhost:8080/",
          "height": 136
        },
        "outputId": "6df0a6f2-79af-4e84-a68c-2c75fda56d9e"
      },
      "source": [
        "matrix1"
      ],
      "execution_count": 91,
      "outputs": [
        {
          "output_type": "execute_result",
          "data": {
            "text/plain": [
              "array([[ 3, 75, 81, ..., 94, 62, 61],\n",
              "       [89, 47, 41, ..., 26, 61, 42],\n",
              "       [42, 63, 92, ..., 15, 15, 50],\n",
              "       ...,\n",
              "       [ 0, 78, 43, ..., 47, 19, 51],\n",
              "       [25, 50, 58, ..., 17, 24, 15],\n",
              "       [74, 25, 83, ..., 69,  7, 66]])"
            ]
          },
          "metadata": {
            "tags": []
          },
          "execution_count": 91
        }
      ]
    },
    {
      "cell_type": "code",
      "metadata": {
        "id": "ZpxCPudyAXOV",
        "colab_type": "code",
        "colab": {
          "base_uri": "https://localhost:8080/",
          "height": 221
        },
        "outputId": "185ec6b6-9be7-4070-b9cc-82c91ef7a091"
      },
      "source": [
        "matrix1[:, 3] > matrix1[:, 1] "
      ],
      "execution_count": 93,
      "outputs": [
        {
          "output_type": "execute_result",
          "data": {
            "text/plain": [
              "array([False, False, False,  True, False,  True,  True, False,  True,\n",
              "       False, False,  True,  True,  True, False,  True,  True,  True,\n",
              "       False, False,  True,  True, False, False, False, False, False,\n",
              "        True,  True, False, False, False,  True, False, False,  True,\n",
              "        True, False, False,  True,  True,  True,  True, False,  True,\n",
              "        True,  True,  True,  True,  True,  True, False,  True, False,\n",
              "        True,  True, False, False,  True, False,  True,  True, False,\n",
              "        True, False, False, False,  True,  True, False, False, False,\n",
              "       False, False,  True, False,  True, False, False, False,  True,\n",
              "       False,  True,  True,  True, False,  True,  True, False, False,\n",
              "        True, False, False,  True, False, False,  True, False,  True,\n",
              "       False])"
            ]
          },
          "metadata": {
            "tags": []
          },
          "execution_count": 93
        }
      ]
    },
    {
      "cell_type": "code",
      "metadata": {
        "id": "GvyNZQGUE3XH",
        "colab_type": "code",
        "colab": {}
      },
      "source": [
        "mz = matrix1[:, 3] > matrix1[:, 1] "
      ],
      "execution_count": 95,
      "outputs": []
    },
    {
      "cell_type": "code",
      "metadata": {
        "id": "brrL2TtLFCpl",
        "colab_type": "code",
        "colab": {
          "base_uri": "https://localhost:8080/",
          "height": 221
        },
        "outputId": "15a0f8c6-0602-4e0b-badc-e92eebe37b3e"
      },
      "source": [
        "mz"
      ],
      "execution_count": 96,
      "outputs": [
        {
          "output_type": "execute_result",
          "data": {
            "text/plain": [
              "array([False, False, False,  True, False,  True,  True, False,  True,\n",
              "       False, False,  True,  True,  True, False,  True,  True,  True,\n",
              "       False, False,  True,  True, False, False, False, False, False,\n",
              "        True,  True, False, False, False,  True, False, False,  True,\n",
              "        True, False, False,  True,  True,  True,  True, False,  True,\n",
              "        True,  True,  True,  True,  True,  True, False,  True, False,\n",
              "        True,  True, False, False,  True, False,  True,  True, False,\n",
              "        True, False, False, False,  True,  True, False, False, False,\n",
              "       False, False,  True, False,  True, False, False, False,  True,\n",
              "       False,  True,  True,  True, False,  True,  True, False, False,\n",
              "        True, False, False,  True, False, False,  True, False,  True,\n",
              "       False])"
            ]
          },
          "metadata": {
            "tags": []
          },
          "execution_count": 96
        }
      ]
    },
    {
      "cell_type": "code",
      "metadata": {
        "id": "4HzRvpQZFJ5u",
        "colab_type": "code",
        "colab": {
          "base_uri": "https://localhost:8080/",
          "height": 136
        },
        "outputId": "492ca889-d955-4cac-c8b7-eddaff6bf503"
      },
      "source": [
        "matrix1[mz]"
      ],
      "execution_count": 97,
      "outputs": [
        {
          "output_type": "execute_result",
          "data": {
            "text/plain": [
              "array([[87, 79, 92, ..., 52, 17, 48],\n",
              "       [88, 10, 63, ..., 36, 94, 15],\n",
              "       [61,  2, 68, ..., 16, 40, 86],\n",
              "       ...,\n",
              "       [61, 16, 90, ..., 82, 59,  6],\n",
              "       [32, 30, 31, ..., 18, 22, 12],\n",
              "       [25, 50, 58, ..., 17, 24, 15]])"
            ]
          },
          "metadata": {
            "tags": []
          },
          "execution_count": 97
        }
      ]
    }
  ]
}