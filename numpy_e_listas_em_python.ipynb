{
  "nbformat": 4,
  "nbformat_minor": 0,
  "metadata": {
    "colab": {
      "name": "numpy e listas em python",
      "provenance": [],
      "collapsed_sections": [],
      "authorship_tag": "ABX9TyMr+oeUfkmtMjIKXtNPxzW+",
      "include_colab_link": true
    },
    "kernelspec": {
      "name": "python3",
      "display_name": "Python 3"
    }
  },
  "cells": [
    {
      "cell_type": "markdown",
      "metadata": {
        "id": "view-in-github",
        "colab_type": "text"
      },
      "source": [
        "<a href=\"https://colab.research.google.com/github/vitor-edu/numpy-listas-python-FIAP/blob/master/numpy_e_listas_em_python.ipynb\" target=\"_parent\"><img src=\"https://colab.research.google.com/assets/colab-badge.svg\" alt=\"Open In Colab\"/></a>"
      ]
    },
    {
      "cell_type": "code",
      "metadata": {
        "id": "aC3ku-JTIT4J",
        "colab_type": "code",
        "colab": {}
      },
      "source": [
        "import pandas as pd\n",
        "import numpy as np"
      ],
      "execution_count": null,
      "outputs": []
    },
    {
      "cell_type": "markdown",
      "metadata": {
        "id": "W3gbjqMpDruQ",
        "colab_type": "text"
      },
      "source": [
        "#Introdução a Python\n",
        "\n",
        "'''\n",
        "Duas das principais ferramentas para realizar manipular, tratar, sumarizar e visualizar dados em Python são **Numpy** e **Pandas**. São bibliotecas (conjuntos de classes, funções e objetos) feitos para análise de dados. \n",
        "\n",
        "Enquanto Numpy foca em manipulação de vetores e matrizes, muito úteis para realizar operações de álgebra linear (como decomposição de matrizes, calculo de similaridade e distâncias, etc), o Pandas é focado em dados tabulares e manipulações de dados estruturados.\n",
        "'''"
      ]
    },
    {
      "cell_type": "markdown",
      "metadata": {
        "id": "ahsRecDuD4VH",
        "colab_type": "text"
      },
      "source": [
        "# numpy e listas em python"
      ]
    },
    {
      "cell_type": "code",
      "metadata": {
        "id": "saL2_f2BKi-8",
        "colab_type": "code",
        "colab": {}
      },
      "source": [
        "lista_de_int = [1,2,3,4,5]\n",
        "lista_de_string = [\"um\", \"dois\", \"tres\"]\n",
        "lista_de_listas = [[1,2,2], [1,2], [1,2,3,4]]\n",
        "lista_mista = [2,4,3, \"carro\", 8]"
      ],
      "execution_count": null,
      "outputs": []
    },
    {
      "cell_type": "markdown",
      "metadata": {
        "id": "lyOliT1JGmHa",
        "colab_type": "text"
      },
      "source": [
        "Listas são pouco indicadas para fazer contas. \n",
        "\n",
        "Suponha que tenhamos duas listas para gerenciar uma compra em uma loja: uma contendo a quantidade de itens, outra o valor dos ítens.\n"
      ]
    },
    {
      "cell_type": "code",
      "metadata": {
        "id": "M38KORTiEjUQ",
        "colab_type": "code",
        "colab": {}
      },
      "source": [
        "quantidades = [1, 10, 0, 5, 2]\n",
        "precos = [10.1, 20.3, 100.75, 0.5, 2.0]\n",
        "\n"
      ],
      "execution_count": null,
      "outputs": []
    },
    {
      "cell_type": "markdown",
      "metadata": {
        "id": "1mOoW5HEEdS7",
        "colab_type": "text"
      },
      "source": [
        "#exercicios\n",
        "'''\n",
        "Calcule o preço total da compra do cliente, multiplicando a quantidade pedida do primeiro produto pelo seu preço, a quantidade pedida do segundo produto pelo seu preço e assim por diante.\n",
        "'''"
      ]
    },
    {
      "cell_type": "code",
      "metadata": {
        "id": "hLcPH-FSHueU",
        "colab_type": "code",
        "colab": {}
      },
      "source": [
        "quantidades = np.array(quantidades)\n",
        "precos = np.array(precos)"
      ],
      "execution_count": null,
      "outputs": []
    },
    {
      "cell_type": "code",
      "metadata": {
        "id": "6FxYW9mxIClD",
        "colab_type": "code",
        "colab": {
          "base_uri": "https://localhost:8080/",
          "height": 34
        },
        "outputId": "ffead68e-a487-4766-b759-0ff50aac5068"
      },
      "source": [
        "quantidades * precos "
      ],
      "execution_count": null,
      "outputs": [
        {
          "output_type": "execute_result",
          "data": {
            "text/plain": [
              "array([ 10.1, 203. ,   0. ,   2.5,   4. ])"
            ]
          },
          "metadata": {
            "tags": []
          },
          "execution_count": 5
        }
      ]
    },
    {
      "cell_type": "markdown",
      "metadata": {
        "id": "HZIcdFmxIPTL",
        "colab_type": "text"
      },
      "source": [
        "#### Acessando e mudando elementos do array\n",
        "\n",
        "Algumas vezes, precisamos acessar (por qualquer motivo que seja) um sub-conjunto de um array do numpy. Pode ser que queiramos usar apenas um elemento (ex.: precisamos mandar para alguém apenas o preço do segundo item). Outras vezes, precisamos de um pedaço maior do array, em outras palavras, um sub-array.\n",
        "\n",
        "Para acessar apenas um elemento do array, podemos usar a sintaxe `a[i]`. No caso dos preços, por exemplo, podemos acessar o preço do terceiro item fazendo:"
      ]
    },
    {
      "cell_type": "code",
      "metadata": {
        "id": "wQdtj9HJIs8V",
        "colab_type": "code",
        "colab": {
          "base_uri": "https://localhost:8080/",
          "height": 34
        },
        "outputId": "eb58cc19-a490-4ad6-fe5a-7d37472bf7a4"
      },
      "source": [
        "precos[3]"
      ],
      "execution_count": null,
      "outputs": [
        {
          "output_type": "execute_result",
          "data": {
            "text/plain": [
              "0.5"
            ]
          },
          "metadata": {
            "tags": []
          },
          "execution_count": 6
        }
      ]
    },
    {
      "cell_type": "code",
      "metadata": {
        "id": "R-4V-GbiJXLu",
        "colab_type": "code",
        "colab": {
          "base_uri": "https://localhost:8080/",
          "height": 34
        },
        "outputId": "00841f0d-0efe-45a6-99a5-957848ad4a78"
      },
      "source": [
        "precos[0]"
      ],
      "execution_count": null,
      "outputs": [
        {
          "output_type": "execute_result",
          "data": {
            "text/plain": [
              "10.1"
            ]
          },
          "metadata": {
            "tags": []
          },
          "execution_count": 7
        }
      ]
    },
    {
      "cell_type": "markdown",
      "metadata": {
        "id": "lokF2wOIJb0D",
        "colab_type": "text"
      },
      "source": [
        "Podemos também usar listas para acessar ***multiplos elementos*** de uma vez, fazendo `a[[1,2,3,4]]`. Por exemplo, se quisermos os preços dos três primeiros itens, podemos fazer:"
      ]
    },
    {
      "cell_type": "code",
      "metadata": {
        "id": "LT6362t3Jvho",
        "colab_type": "code",
        "colab": {
          "base_uri": "https://localhost:8080/",
          "height": 34
        },
        "outputId": "2ab8a28c-f2b7-4193-9cc8-c3a05363841e"
      },
      "source": [
        "precos[[0, 1, 2, 3]]"
      ],
      "execution_count": null,
      "outputs": [
        {
          "output_type": "execute_result",
          "data": {
            "text/plain": [
              "array([ 10.1 ,  20.3 , 100.75,   0.5 ])"
            ]
          },
          "metadata": {
            "tags": []
          },
          "execution_count": 8
        }
      ]
    },
    {
      "cell_type": "code",
      "metadata": {
        "id": "OqqcLYrOKDro",
        "colab_type": "code",
        "colab": {
          "base_uri": "https://localhost:8080/",
          "height": 34
        },
        "outputId": "b880a508-4a7e-45ac-ad55-f3df86282f21"
      },
      "source": [
        "quantidades[[0, 1, 2, 3, 4]]"
      ],
      "execution_count": null,
      "outputs": [
        {
          "output_type": "execute_result",
          "data": {
            "text/plain": [
              "array([ 1, 10,  0,  5,  2])"
            ]
          },
          "metadata": {
            "tags": []
          },
          "execution_count": 9
        }
      ]
    },
    {
      "cell_type": "markdown",
      "metadata": {
        "id": "70x9wdxnKT4N",
        "colab_type": "text"
      },
      "source": [
        "Para acessar ***elementos contíguos (ou seja, adjacentes)*** como no caso acima, podemos também usar o que é chamado de `slicing`. Slices são escritos como `i:j` e significam algo como \"acessar os itens da posição `i` (inclusa) até a posição `j` (não inclusa)\". Por exemplo, para pegar os preços dos três primeiros itens, faríamos:"
      ]
    },
    {
      "cell_type": "code",
      "metadata": {
        "id": "J-ONu_Y9Kcyt",
        "colab_type": "code",
        "colab": {
          "base_uri": "https://localhost:8080/",
          "height": 34
        },
        "outputId": "c9690ad8-32b4-4ebd-a8e6-23851060ec46"
      },
      "source": [
        "precos[0:3]"
      ],
      "execution_count": null,
      "outputs": [
        {
          "output_type": "execute_result",
          "data": {
            "text/plain": [
              "array([ 10.1 ,  20.3 , 100.75])"
            ]
          },
          "metadata": {
            "tags": []
          },
          "execution_count": 10
        }
      ]
    },
    {
      "cell_type": "markdown",
      "metadata": {
        "id": "hYP7aEFFL4sj",
        "colab_type": "text"
      },
      "source": [
        "#exercício\n",
        "\n",
        "Sobre o array `x`, encontre:\n",
        "\n",
        "* O décimo terceiro elemento\n",
        "* Um sub-array com o primeiro, terceiro e décimo elemento\n",
        "* Um sub-array com os 5 primeiros elementos\n"
      ]
    },
    {
      "cell_type": "markdown",
      "metadata": {
        "id": "fhLRVt5mOAoT",
        "colab_type": "text"
      },
      "source": [
        "O décimo terceiro elemento"
      ]
    },
    {
      "cell_type": "code",
      "metadata": {
        "id": "5Sjpe7PqMByw",
        "colab_type": "code",
        "colab": {}
      },
      "source": [
        "x = [1, 2, 3, 4, 55, 65, 65, 44, 34, 23, 45, 45, 65, 54, 67, 90]"
      ],
      "execution_count": null,
      "outputs": []
    },
    {
      "cell_type": "code",
      "metadata": {
        "id": "AAisWGkCMVZQ",
        "colab_type": "code",
        "colab": {}
      },
      "source": [
        "x = np.array(x)"
      ],
      "execution_count": null,
      "outputs": []
    },
    {
      "cell_type": "code",
      "metadata": {
        "id": "qJKUweBZMjBb",
        "colab_type": "code",
        "colab": {
          "base_uri": "https://localhost:8080/",
          "height": 34
        },
        "outputId": "280d5c38-4329-480d-eefb-9a8620d6d7ff"
      },
      "source": [
        "x[12]"
      ],
      "execution_count": null,
      "outputs": [
        {
          "output_type": "execute_result",
          "data": {
            "text/plain": [
              "65"
            ]
          },
          "metadata": {
            "tags": []
          },
          "execution_count": 13
        }
      ]
    },
    {
      "cell_type": "markdown",
      "metadata": {
        "id": "uUj4qpTTOPSM",
        "colab_type": "text"
      },
      "source": [
        "Um sub-array com o primeiro, terceiro e décimo elemento"
      ]
    },
    {
      "cell_type": "code",
      "metadata": {
        "id": "b-hYNrG5M9eh",
        "colab_type": "code",
        "colab": {}
      },
      "source": [
        "y = [[1,2], [3,4,55], [65,65,44], [34,23], [45,45], [65,4], [67,90], [3,5,55], [5,65,44], [34,23], [435,45], [645,4], [68,90]]\n"
      ],
      "execution_count": null,
      "outputs": []
    },
    {
      "cell_type": "code",
      "metadata": {
        "id": "ac7oc35oNRsc",
        "colab_type": "code",
        "colab": {}
      },
      "source": [
        "y = np.array(y)"
      ],
      "execution_count": null,
      "outputs": []
    },
    {
      "cell_type": "code",
      "metadata": {
        "id": "mwFqwPYnNYaq",
        "colab_type": "code",
        "colab": {
          "base_uri": "https://localhost:8080/",
          "height": 34
        },
        "outputId": "b70834a4-2c83-4c17-84e0-6d66a6d1a7d3"
      },
      "source": [
        "y[[0, 2, 9]]"
      ],
      "execution_count": null,
      "outputs": [
        {
          "output_type": "execute_result",
          "data": {
            "text/plain": [
              "array([list([1, 2]), list([65, 65, 44]), list([34, 23])], dtype=object)"
            ]
          },
          "metadata": {
            "tags": []
          },
          "execution_count": 16
        }
      ]
    },
    {
      "cell_type": "markdown",
      "metadata": {
        "id": "Rai_69sMOTvP",
        "colab_type": "text"
      },
      "source": [
        "Um sub-array com os 5 primeiros elementos\n"
      ]
    },
    {
      "cell_type": "code",
      "metadata": {
        "id": "NQJPR5IVOZfg",
        "colab_type": "code",
        "colab": {
          "base_uri": "https://localhost:8080/",
          "height": 51
        },
        "outputId": "c5027ed9-5d75-48d0-d0b2-59010aad2949"
      },
      "source": [
        "y[:5]"
      ],
      "execution_count": null,
      "outputs": [
        {
          "output_type": "execute_result",
          "data": {
            "text/plain": [
              "array([list([1, 2]), list([3, 4, 55]), list([65, 65, 44]), list([34, 23]),\n",
              "       list([45, 45])], dtype=object)"
            ]
          },
          "metadata": {
            "tags": []
          },
          "execution_count": 17
        }
      ]
    },
    {
      "cell_type": "markdown",
      "metadata": {
        "id": "5_pt4fBtPjRk",
        "colab_type": "text"
      },
      "source": [
        "função random(aleatoriedade) - randint(numeros inteiros)."
      ]
    },
    {
      "cell_type": "code",
      "metadata": {
        "id": "U1qcCuf4Pnk3",
        "colab_type": "code",
        "colab": {}
      },
      "source": [
        "z = np.random.randint(0, 300, size=10)"
      ],
      "execution_count": null,
      "outputs": []
    },
    {
      "cell_type": "code",
      "metadata": {
        "id": "tzGu5PHVQsIJ",
        "colab_type": "code",
        "colab": {
          "base_uri": "https://localhost:8080/",
          "height": 34
        },
        "outputId": "e6458161-07c8-403e-f082-381740a71066"
      },
      "source": [
        "z"
      ],
      "execution_count": null,
      "outputs": [
        {
          "output_type": "execute_result",
          "data": {
            "text/plain": [
              "array([206,  31,   3, 237,  80, 132, 208, 140, 185, 218])"
            ]
          },
          "metadata": {
            "tags": []
          },
          "execution_count": 19
        }
      ]
    },
    {
      "cell_type": "code",
      "metadata": {
        "id": "hXfq_ZlFQ2ex",
        "colab_type": "code",
        "colab": {}
      },
      "source": [
        "z = np.random.randint(0, 500, size=30)"
      ],
      "execution_count": null,
      "outputs": []
    },
    {
      "cell_type": "code",
      "metadata": {
        "id": "e_TG6ELwRLpx",
        "colab_type": "code",
        "colab": {
          "base_uri": "https://localhost:8080/",
          "height": 68
        },
        "outputId": "c0600d44-0342-4094-8d5c-9ec9a67a4a0c"
      },
      "source": [
        "z"
      ],
      "execution_count": null,
      "outputs": [
        {
          "output_type": "execute_result",
          "data": {
            "text/plain": [
              "array([ 46, 350, 499, 147, 473, 252, 351, 221, 338, 210, 105, 132, 497,\n",
              "       110, 183, 250, 234, 178, 113, 144, 125, 427, 194,  66, 415,  79,\n",
              "       176, 102,  11, 315])"
            ]
          },
          "metadata": {
            "tags": []
          },
          "execution_count": 21
        }
      ]
    },
    {
      "cell_type": "markdown",
      "metadata": {
        "id": "MOYFWbCNSDNv",
        "colab_type": "text"
      },
      "source": [
        "#Máscaras\n",
        "\n",
        "Para acessar elementos de um array, também podemos usar uma lista de Booleanos (`True` ou `False`) do mesmo tamanho do array. Esta lista é chamada de máscara.\n",
        "\n",
        "A máscara representa quais elementos você quer preservar (representado por `True`) e quais você quer descartar (`False`) do seu resultado final. Por exemplo, para acessar os preços do primeiro e do terceiro item, fazemos:\n"
      ]
    },
    {
      "cell_type": "code",
      "metadata": {
        "id": "dv1CDEFJSNPo",
        "colab_type": "code",
        "colab": {
          "base_uri": "https://localhost:8080/",
          "height": 34
        },
        "outputId": "2b7a34fe-c960-42b9-f019-1db32d20126b"
      },
      "source": [
        "precos"
      ],
      "execution_count": null,
      "outputs": [
        {
          "output_type": "execute_result",
          "data": {
            "text/plain": [
              "array([ 10.1 ,  20.3 , 100.75,   0.5 ,   2.  ])"
            ]
          },
          "metadata": {
            "tags": []
          },
          "execution_count": 22
        }
      ]
    },
    {
      "cell_type": "markdown",
      "metadata": {
        "id": "sSkf81gSmjGg",
        "colab_type": "text"
      },
      "source": [
        "pegar o primeiro e terceiro elemento"
      ]
    },
    {
      "cell_type": "code",
      "metadata": {
        "id": "Q7ywu_gKlhAy",
        "colab_type": "code",
        "colab": {
          "base_uri": "https://localhost:8080/",
          "height": 34
        },
        "outputId": "d05988d2-9fa4-47fe-99ff-89d891b5ac2d"
      },
      "source": [
        "precos[[True, False, True, False, False]]"
      ],
      "execution_count": null,
      "outputs": [
        {
          "output_type": "execute_result",
          "data": {
            "text/plain": [
              "array([ 10.1 , 100.75])"
            ]
          },
          "metadata": {
            "tags": []
          },
          "execution_count": 23
        }
      ]
    },
    {
      "cell_type": "markdown",
      "metadata": {
        "id": "AJXzpodmmo1A",
        "colab_type": "text"
      },
      "source": [
        "pegar o quinto elemento."
      ]
    },
    {
      "cell_type": "code",
      "metadata": {
        "id": "8dI1TfWumLRF",
        "colab_type": "code",
        "colab": {
          "base_uri": "https://localhost:8080/",
          "height": 34
        },
        "outputId": "831a8b83-57d5-4ba0-fbe4-cedeb0a9bd79"
      },
      "source": [
        "precos[[False, False, False, False, True]]"
      ],
      "execution_count": null,
      "outputs": [
        {
          "output_type": "execute_result",
          "data": {
            "text/plain": [
              "array([2.])"
            ]
          },
          "metadata": {
            "tags": []
          },
          "execution_count": 24
        }
      ]
    },
    {
      "cell_type": "markdown",
      "metadata": {
        "id": "a0nCefF-myAG",
        "colab_type": "text"
      },
      "source": [
        "pegar o quarto elemento."
      ]
    },
    {
      "cell_type": "code",
      "metadata": {
        "id": "wKxzRtcRm07a",
        "colab_type": "code",
        "colab": {
          "base_uri": "https://localhost:8080/",
          "height": 34
        },
        "outputId": "f8726fb1-26ae-496d-dfb4-573e3256a7a8"
      },
      "source": [
        "precos[[False, False, False, True, False]]"
      ],
      "execution_count": null,
      "outputs": [
        {
          "output_type": "execute_result",
          "data": {
            "text/plain": [
              "array([0.5])"
            ]
          },
          "metadata": {
            "tags": []
          },
          "execution_count": 25
        }
      ]
    },
    {
      "cell_type": "markdown",
      "metadata": {
        "id": "7x_3Fm9dnF7O",
        "colab_type": "text"
      },
      "source": [
        "\n",
        "O método da máscara pode parecer inútil, mas é muito útil quando você quer filtrar elementos de um array. Por exemplo, imagine que queremos somente os preços maiores que 10:"
      ]
    },
    {
      "cell_type": "code",
      "metadata": {
        "id": "HAZvsgLhpNIr",
        "colab_type": "code",
        "colab": {}
      },
      "source": [
        "mascara = precos > 10"
      ],
      "execution_count": null,
      "outputs": []
    },
    {
      "cell_type": "code",
      "metadata": {
        "id": "uIOKMoWLpiOj",
        "colab_type": "code",
        "colab": {
          "base_uri": "https://localhost:8080/",
          "height": 34
        },
        "outputId": "80a23f7a-e8c7-4eb7-a70a-f0271f93340e"
      },
      "source": [
        "mascara"
      ],
      "execution_count": null,
      "outputs": [
        {
          "output_type": "execute_result",
          "data": {
            "text/plain": [
              "array([ True,  True,  True, False, False])"
            ]
          },
          "metadata": {
            "tags": []
          },
          "execution_count": 27
        }
      ]
    },
    {
      "cell_type": "markdown",
      "metadata": {
        "id": "r8GhxPmiqMhG",
        "colab_type": "text"
      },
      "source": [
        "verificar preços maior que 70."
      ]
    },
    {
      "cell_type": "code",
      "metadata": {
        "id": "sfbeNr8Pp-yS",
        "colab_type": "code",
        "colab": {}
      },
      "source": [
        "mascara = precos > 70"
      ],
      "execution_count": null,
      "outputs": []
    },
    {
      "cell_type": "markdown",
      "metadata": {
        "id": "CnfRLEkLraul",
        "colab_type": "text"
      },
      "source": [
        "# A máscara é um np.array de booleanos\n"
      ]
    },
    {
      "cell_type": "code",
      "metadata": {
        "id": "Iy_WAX4jqI7o",
        "colab_type": "code",
        "colab": {
          "base_uri": "https://localhost:8080/",
          "height": 34
        },
        "outputId": "1903a2db-cef3-4160-8130-72d14aac85ec"
      },
      "source": [
        "mascara"
      ],
      "execution_count": null,
      "outputs": [
        {
          "output_type": "execute_result",
          "data": {
            "text/plain": [
              "array([False, False,  True, False, False])"
            ]
          },
          "metadata": {
            "tags": []
          },
          "execution_count": 29
        }
      ]
    },
    {
      "cell_type": "markdown",
      "metadata": {
        "id": "vBBTLEBJqa6X",
        "colab_type": "text"
      },
      "source": [
        "# Usamos então a máscara para acessar os elementos que queremos."
      ]
    },
    {
      "cell_type": "code",
      "metadata": {
        "id": "94QoUudUr7e2",
        "colab_type": "code",
        "colab": {
          "base_uri": "https://localhost:8080/",
          "height": 34
        },
        "outputId": "e856a86e-1966-4cdb-e5ee-5df13af02e9a"
      },
      "source": [
        "precos[mascara]"
      ],
      "execution_count": null,
      "outputs": [
        {
          "output_type": "execute_result",
          "data": {
            "text/plain": [
              "array([100.75])"
            ]
          },
          "metadata": {
            "tags": []
          },
          "execution_count": 30
        }
      ]
    },
    {
      "cell_type": "code",
      "metadata": {
        "id": "Fn8IP6y1sM2x",
        "colab_type": "code",
        "colab": {
          "base_uri": "https://localhost:8080/",
          "height": 34
        },
        "outputId": "7922e2e6-fb16-46b1-c768-9a57bf9c4723"
      },
      "source": [
        "precos[precos > 10]"
      ],
      "execution_count": null,
      "outputs": [
        {
          "output_type": "execute_result",
          "data": {
            "text/plain": [
              "array([ 10.1 ,  20.3 , 100.75])"
            ]
          },
          "metadata": {
            "tags": []
          },
          "execution_count": 31
        }
      ]
    },
    {
      "cell_type": "code",
      "metadata": {
        "id": "CfYE9FZLsWWv",
        "colab_type": "code",
        "colab": {
          "base_uri": "https://localhost:8080/",
          "height": 34
        },
        "outputId": "c3d44f05-ad40-4e1b-f637-db2182e09095"
      },
      "source": [
        "precos[precos < 3]"
      ],
      "execution_count": null,
      "outputs": [
        {
          "output_type": "execute_result",
          "data": {
            "text/plain": [
              "array([0.5, 2. ])"
            ]
          },
          "metadata": {
            "tags": []
          },
          "execution_count": 32
        }
      ]
    },
    {
      "cell_type": "markdown",
      "metadata": {
        "id": "_VcxVABnuUdW",
        "colab_type": "text"
      },
      "source": [
        ""
      ]
    },
    {
      "cell_type": "code",
      "metadata": {
        "id": "nwkqMeICs2Ae",
        "colab_type": "code",
        "colab": {
          "base_uri": "https://localhost:8080/",
          "height": 34
        },
        "outputId": "a98d836c-3af4-49b4-ed53-d1ecea0e189a"
      },
      "source": [
        "precos[precos < 30]"
      ],
      "execution_count": null,
      "outputs": [
        {
          "output_type": "execute_result",
          "data": {
            "text/plain": [
              "array([10.1, 20.3,  0.5,  2. ])"
            ]
          },
          "metadata": {
            "tags": []
          },
          "execution_count": 33
        }
      ]
    },
    {
      "cell_type": "markdown",
      "metadata": {
        "id": "CPgyejdbuRCN",
        "colab_type": "text"
      },
      "source": [
        "#exercicio\n",
        "Alguns **produtos** tiveram mais de uma unidade pedida pelo usuário (informação que consta na lista *quantidade*). Encontre os *preços* desse produtos.\n"
      ]
    },
    {
      "cell_type": "code",
      "metadata": {
        "id": "WM3OsP-WuXAH",
        "colab_type": "code",
        "colab": {
          "base_uri": "https://localhost:8080/",
          "height": 34
        },
        "outputId": "8b5ea444-530d-4120-e712-058212baf5c3"
      },
      "source": [
        "precos"
      ],
      "execution_count": null,
      "outputs": [
        {
          "output_type": "execute_result",
          "data": {
            "text/plain": [
              "array([ 10.1 ,  20.3 , 100.75,   0.5 ,   2.  ])"
            ]
          },
          "metadata": {
            "tags": []
          },
          "execution_count": 34
        }
      ]
    },
    {
      "cell_type": "code",
      "metadata": {
        "id": "Az0oTKhkuZRV",
        "colab_type": "code",
        "colab": {
          "base_uri": "https://localhost:8080/",
          "height": 34
        },
        "outputId": "1afc669e-5b06-4061-a977-aec05a4dc23f"
      },
      "source": [
        "quantidades"
      ],
      "execution_count": null,
      "outputs": [
        {
          "output_type": "execute_result",
          "data": {
            "text/plain": [
              "array([ 1, 10,  0,  5,  2])"
            ]
          },
          "metadata": {
            "tags": []
          },
          "execution_count": 35
        }
      ]
    },
    {
      "cell_type": "markdown",
      "metadata": {
        "id": "EU4V7-aW1PnM",
        "colab_type": "text"
      },
      "source": [
        "alguns exemplos."
      ]
    },
    {
      "cell_type": "code",
      "metadata": {
        "id": "9TE-7Lsf1FH0",
        "colab_type": "code",
        "colab": {
          "base_uri": "https://localhost:8080/",
          "height": 34
        },
        "outputId": "a2df82c5-4226-499c-eb39-6be44fbfc9ed"
      },
      "source": [
        "quantidades > 1"
      ],
      "execution_count": null,
      "outputs": [
        {
          "output_type": "execute_result",
          "data": {
            "text/plain": [
              "array([False,  True, False,  True,  True])"
            ]
          },
          "metadata": {
            "tags": []
          },
          "execution_count": 36
        }
      ]
    },
    {
      "cell_type": "code",
      "metadata": {
        "id": "3lSFqrIF1LsS",
        "colab_type": "code",
        "colab": {
          "base_uri": "https://localhost:8080/",
          "height": 34
        },
        "outputId": "b4c3a025-dbae-4216-9d60-0580e8b38cd6"
      },
      "source": [
        "quantidades > 7"
      ],
      "execution_count": null,
      "outputs": [
        {
          "output_type": "execute_result",
          "data": {
            "text/plain": [
              "array([False,  True, False, False, False])"
            ]
          },
          "metadata": {
            "tags": []
          },
          "execution_count": 37
        }
      ]
    },
    {
      "cell_type": "code",
      "metadata": {
        "id": "5IJtN1Bg1XSW",
        "colab_type": "code",
        "colab": {
          "base_uri": "https://localhost:8080/",
          "height": 34
        },
        "outputId": "2fec6cec-87ba-4e17-c4d5-f3d38d1ef4e6"
      },
      "source": [
        "quantidades >= 0 "
      ],
      "execution_count": null,
      "outputs": [
        {
          "output_type": "execute_result",
          "data": {
            "text/plain": [
              "array([ True,  True,  True,  True,  True])"
            ]
          },
          "metadata": {
            "tags": []
          },
          "execution_count": 38
        }
      ]
    },
    {
      "cell_type": "code",
      "metadata": {
        "id": "VHUjxGt02ggt",
        "colab_type": "code",
        "colab": {
          "base_uri": "https://localhost:8080/",
          "height": 34
        },
        "outputId": "8b5df116-eec0-4be6-9e46-eb2e6ed40e71"
      },
      "source": [
        "#resultado\n",
        "precos[quantidades > 1]"
      ],
      "execution_count": null,
      "outputs": [
        {
          "output_type": "execute_result",
          "data": {
            "text/plain": [
              "array([20.3,  0.5,  2. ])"
            ]
          },
          "metadata": {
            "tags": []
          },
          "execution_count": 39
        }
      ]
    },
    {
      "cell_type": "markdown",
      "metadata": {
        "id": "wgYWx0da3Gmj",
        "colab_type": "text"
      },
      "source": [
        "preço dos produtos acima de 9 itens."
      ]
    },
    {
      "cell_type": "code",
      "metadata": {
        "id": "baepka2B3Uu-",
        "colab_type": "code",
        "colab": {
          "base_uri": "https://localhost:8080/",
          "height": 34
        },
        "outputId": "70fb6577-9a95-4212-cbd3-82f0c725e293"
      },
      "source": [
        "precos[quantidades > 9]"
      ],
      "execution_count": null,
      "outputs": [
        {
          "output_type": "execute_result",
          "data": {
            "text/plain": [
              "array([20.3])"
            ]
          },
          "metadata": {
            "tags": []
          },
          "execution_count": 40
        }
      ]
    },
    {
      "cell_type": "markdown",
      "metadata": {
        "id": "1feb6sqCKF5h",
        "colab_type": "text"
      },
      "source": [
        "# Alterando elementos do array\n"
      ]
    },
    {
      "cell_type": "code",
      "metadata": {
        "id": "0_QxGbzUKSg9",
        "colab_type": "code",
        "colab": {
          "base_uri": "https://localhost:8080/",
          "height": 34
        },
        "outputId": "2bb5c26b-2575-43e0-dd20-8c54d3017bb3"
      },
      "source": [
        "precos"
      ],
      "execution_count": null,
      "outputs": [
        {
          "output_type": "execute_result",
          "data": {
            "text/plain": [
              "array([ 10.1 ,  20.3 , 100.75,   0.5 ,   2.  ])"
            ]
          },
          "metadata": {
            "tags": []
          },
          "execution_count": 41
        }
      ]
    },
    {
      "cell_type": "code",
      "metadata": {
        "id": "QXJC_oOOKYdK",
        "colab_type": "code",
        "colab": {
          "base_uri": "https://localhost:8080/",
          "height": 34
        },
        "outputId": "b4b0447d-8e46-426e-bf85-2c7564ed1ae7"
      },
      "source": [
        "precos[4]"
      ],
      "execution_count": null,
      "outputs": [
        {
          "output_type": "execute_result",
          "data": {
            "text/plain": [
              "2.0"
            ]
          },
          "metadata": {
            "tags": []
          },
          "execution_count": 42
        }
      ]
    },
    {
      "cell_type": "code",
      "metadata": {
        "id": "V72Z1n95KdxF",
        "colab_type": "code",
        "colab": {}
      },
      "source": [
        "precos[4] = 130"
      ],
      "execution_count": null,
      "outputs": []
    },
    {
      "cell_type": "code",
      "metadata": {
        "id": "6I2z24SNKkWd",
        "colab_type": "code",
        "colab": {
          "base_uri": "https://localhost:8080/",
          "height": 34
        },
        "outputId": "79310e03-a63a-4c3a-80a4-0cd7b73235a2"
      },
      "source": [
        "precos"
      ],
      "execution_count": null,
      "outputs": [
        {
          "output_type": "execute_result",
          "data": {
            "text/plain": [
              "array([ 10.1 ,  20.3 , 100.75,   0.5 , 130.  ])"
            ]
          },
          "metadata": {
            "tags": []
          },
          "execution_count": 44
        }
      ]
    },
    {
      "cell_type": "markdown",
      "metadata": {
        "id": "VhEyOuqCKuLU",
        "colab_type": "text"
      },
      "source": [
        "Você pode alterar multiplos elementos de uma vez! Imagine que você queira dar um desconto de 50% nos três primeiros itens da lista. Basta fazer:"
      ]
    },
    {
      "cell_type": "code",
      "metadata": {
        "id": "vmQPIWOYLuiT",
        "colab_type": "code",
        "colab": {}
      },
      "source": [
        "precos[0:3] = precos[0:3] / 2"
      ],
      "execution_count": null,
      "outputs": []
    },
    {
      "cell_type": "code",
      "metadata": {
        "id": "FEDRnYJ4L0JW",
        "colab_type": "code",
        "colab": {
          "base_uri": "https://localhost:8080/",
          "height": 34
        },
        "outputId": "2023115b-1a58-4d90-e543-ad65f587658a"
      },
      "source": [
        "precos"
      ],
      "execution_count": null,
      "outputs": [
        {
          "output_type": "execute_result",
          "data": {
            "text/plain": [
              "array([  5.05 ,  10.15 ,  50.375,   0.5  , 130.   ])"
            ]
          },
          "metadata": {
            "tags": []
          },
          "execution_count": 46
        }
      ]
    },
    {
      "cell_type": "markdown",
      "metadata": {
        "id": "_182J8mKL6FZ",
        "colab_type": "text"
      },
      "source": [
        "# Numpy Arrays de multiplas dimensões\n",
        "\n",
        "Numpy dá ferramentas excelentes para a manipulação de vetores (no sentido matemático). No entanto, também é ideal quando lidamos com dados de dimensionalidade mais alta, como matrizes ou arrays em 3D. Matrizes, por serem bidimensionais (altura e largura), são capazer de representar objetos como rotações e imagens preto e branco. Arrays 3D podem ser usados para representar imagens coloridas (onde a terceira dimensão é a cor), ou um vídeo (onde a terceira dimensão é o tempo).\n"
      ]
    },
    {
      "cell_type": "code",
      "metadata": {
        "id": "1s-Bx5zeMVng",
        "colab_type": "code",
        "colab": {}
      },
      "source": [
        "# criando uma matriz\n",
        "m1 = np.array([[1,2,3], [4,5,6], [7,8,9], [10,11,12]])"
      ],
      "execution_count": null,
      "outputs": []
    },
    {
      "cell_type": "code",
      "metadata": {
        "id": "5gG2Rwc4Qklt",
        "colab_type": "code",
        "colab": {
          "base_uri": "https://localhost:8080/",
          "height": 85
        },
        "outputId": "c7b03f9e-20f4-4cc9-8c27-c8cf74a00602"
      },
      "source": [
        "m1"
      ],
      "execution_count": null,
      "outputs": [
        {
          "output_type": "execute_result",
          "data": {
            "text/plain": [
              "array([[ 1,  2,  3],\n",
              "       [ 4,  5,  6],\n",
              "       [ 7,  8,  9],\n",
              "       [10, 11, 12]])"
            ]
          },
          "metadata": {
            "tags": []
          },
          "execution_count": 48
        }
      ]
    },
    {
      "cell_type": "code",
      "metadata": {
        "id": "6pkGDc7WQw9W",
        "colab_type": "code",
        "colab": {
          "base_uri": "https://localhost:8080/",
          "height": 34
        },
        "outputId": "ef26b857-2a5f-400b-da4d-1be5527be8d1"
      },
      "source": [
        "quantidades"
      ],
      "execution_count": null,
      "outputs": [
        {
          "output_type": "execute_result",
          "data": {
            "text/plain": [
              "array([ 1, 10,  0,  5,  2])"
            ]
          },
          "metadata": {
            "tags": []
          },
          "execution_count": 49
        }
      ]
    },
    {
      "cell_type": "code",
      "metadata": {
        "id": "KM8YrPwkQ1vz",
        "colab_type": "code",
        "colab": {
          "base_uri": "https://localhost:8080/",
          "height": 34
        },
        "outputId": "19002009-eba8-4826-8b6f-284ca6b43088"
      },
      "source": [
        "precos"
      ],
      "execution_count": null,
      "outputs": [
        {
          "output_type": "execute_result",
          "data": {
            "text/plain": [
              "array([  5.05 ,  10.15 ,  50.375,   0.5  , 130.   ])"
            ]
          },
          "metadata": {
            "tags": []
          },
          "execution_count": 50
        }
      ]
    },
    {
      "cell_type": "code",
      "metadata": {
        "id": "3KjxkNrRQ3y-",
        "colab_type": "code",
        "colab": {}
      },
      "source": [
        "produtos = [quantidades, precos]"
      ],
      "execution_count": null,
      "outputs": []
    },
    {
      "cell_type": "code",
      "metadata": {
        "id": "HC4iaXN0Q9XH",
        "colab_type": "code",
        "colab": {
          "base_uri": "https://localhost:8080/",
          "height": 51
        },
        "outputId": "dcffede5-9bc3-41ef-d25e-2bb51276d786"
      },
      "source": [
        "produtos"
      ],
      "execution_count": null,
      "outputs": [
        {
          "output_type": "execute_result",
          "data": {
            "text/plain": [
              "[array([ 1, 10,  0,  5,  2]),\n",
              " array([  5.05 ,  10.15 ,  50.375,   0.5  , 130.   ])]"
            ]
          },
          "metadata": {
            "tags": []
          },
          "execution_count": 52
        }
      ]
    },
    {
      "cell_type": "markdown",
      "metadata": {
        "id": "jmTzsraLRCOg",
        "colab_type": "text"
      },
      "source": [
        "#Podemos também criar uma matriz aleatória, fazendo:\n"
      ]
    },
    {
      "cell_type": "code",
      "metadata": {
        "id": "9gC3xxMBRMDE",
        "colab_type": "code",
        "colab": {}
      },
      "source": [
        "m2 = np.random.randint(0,100, size=(4,3))"
      ],
      "execution_count": null,
      "outputs": []
    },
    {
      "cell_type": "code",
      "metadata": {
        "id": "CeoMTyrgSIO6",
        "colab_type": "code",
        "colab": {
          "base_uri": "https://localhost:8080/",
          "height": 85
        },
        "outputId": "5a22020e-b3ef-456e-cc13-420d438632fa"
      },
      "source": [
        "m2"
      ],
      "execution_count": null,
      "outputs": [
        {
          "output_type": "execute_result",
          "data": {
            "text/plain": [
              "array([[73,  9, 26],\n",
              "       [65, 36, 36],\n",
              "       [60, 80, 39],\n",
              "       [70, 73, 38]])"
            ]
          },
          "metadata": {
            "tags": []
          },
          "execution_count": 71
        }
      ]
    },
    {
      "cell_type": "code",
      "metadata": {
        "id": "nmvHf1DbSS9p",
        "colab_type": "code",
        "colab": {}
      },
      "source": [
        "m3 = np.random.randint(0,100, size = (10,3))"
      ],
      "execution_count": null,
      "outputs": []
    },
    {
      "cell_type": "code",
      "metadata": {
        "id": "4QBvU1_gSe3r",
        "colab_type": "code",
        "colab": {
          "base_uri": "https://localhost:8080/",
          "height": 187
        },
        "outputId": "14c3b5ef-97b7-45ce-efe5-701b5555be6b"
      },
      "source": [
        "m3"
      ],
      "execution_count": null,
      "outputs": [
        {
          "output_type": "execute_result",
          "data": {
            "text/plain": [
              "array([[29, 33, 95],\n",
              "       [ 6, 36, 22],\n",
              "       [29, 75,  2],\n",
              "       [79, 83, 20],\n",
              "       [84, 42, 87],\n",
              "       [74, 10,  4],\n",
              "       [79, 85, 31],\n",
              "       [90, 70, 96],\n",
              "       [73, 13,  3],\n",
              "       [25, 15, 90]])"
            ]
          },
          "metadata": {
            "tags": []
          },
          "execution_count": 58
        }
      ]
    },
    {
      "cell_type": "code",
      "metadata": {
        "id": "o5ZUUXXJTVQ8",
        "colab_type": "code",
        "colab": {}
      },
      "source": [
        "m4 = np.random.randint(0,100, size = (10,3))"
      ],
      "execution_count": null,
      "outputs": []
    },
    {
      "cell_type": "code",
      "metadata": {
        "id": "VLGZWsAjTkWJ",
        "colab_type": "code",
        "colab": {
          "base_uri": "https://localhost:8080/",
          "height": 187
        },
        "outputId": "9e15b04c-685d-466f-d757-42475ade2b35"
      },
      "source": [
        "m4"
      ],
      "execution_count": null,
      "outputs": [
        {
          "output_type": "execute_result",
          "data": {
            "text/plain": [
              "array([[67, 91, 92],\n",
              "       [ 0, 60, 27],\n",
              "       [40, 68, 95],\n",
              "       [86, 22, 46],\n",
              "       [27, 72, 44],\n",
              "       [43, 96, 89],\n",
              "       [38, 62, 30],\n",
              "       [35, 14, 14],\n",
              "       [72, 18, 44],\n",
              "       [89, 92, 55]])"
            ]
          },
          "metadata": {
            "tags": []
          },
          "execution_count": 62
        }
      ]
    },
    {
      "cell_type": "markdown",
      "metadata": {
        "id": "Q1FdwdZ_Sryf",
        "colab_type": "text"
      },
      "source": [
        "Multiplicação matriccial."
      ]
    },
    {
      "cell_type": "code",
      "metadata": {
        "id": "qPEmIMP9Sx52",
        "colab_type": "code",
        "colab": {}
      },
      "source": [
        "# np.dot(m3, m4) erro esclarecer duvida."
      ],
      "execution_count": null,
      "outputs": []
    },
    {
      "cell_type": "markdown",
      "metadata": {
        "id": "2Vdhfz1LWIMh",
        "colab_type": "text"
      },
      "source": [
        "transpor uma matrix."
      ]
    },
    {
      "cell_type": "code",
      "metadata": {
        "id": "wTszG90RX7Wf",
        "colab_type": "code",
        "colab": {
          "base_uri": "https://localhost:8080/",
          "height": 68
        },
        "outputId": "77aa8083-f113-442b-c88f-3415ba9ae219"
      },
      "source": [
        "m4.T"
      ],
      "execution_count": null,
      "outputs": [
        {
          "output_type": "execute_result",
          "data": {
            "text/plain": [
              "array([[67,  0, 40, 86, 27, 43, 38, 35, 72, 89],\n",
              "       [91, 60, 68, 22, 72, 96, 62, 14, 18, 92],\n",
              "       [92, 27, 95, 46, 44, 89, 30, 14, 44, 55]])"
            ]
          },
          "metadata": {
            "tags": []
          },
          "execution_count": 76
        }
      ]
    },
    {
      "cell_type": "markdown",
      "metadata": {
        "id": "RoHwNBO-9ulL",
        "colab_type": "text"
      },
      "source": [
        "teste"
      ]
    }
  ]
}